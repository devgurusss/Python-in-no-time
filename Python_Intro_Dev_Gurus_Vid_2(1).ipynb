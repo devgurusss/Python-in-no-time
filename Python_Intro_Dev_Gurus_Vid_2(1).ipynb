{
  "nbformat": 4,
  "nbformat_minor": 0,
  "metadata": {
    "colab": {
      "provenance": []
    },
    "kernelspec": {
      "name": "python3",
      "display_name": "Python 3"
    },
    "language_info": {
      "name": "python"
    }
  },
  "cells": [
    {
      "cell_type": "markdown",
      "source": [
        "# Section 1: Control Flow - Conditional Statements\n",
        "\n",
        "In Python, control flow allows us to control the execution of our code based on certain conditions. This is done using conditional statements like `if`, `elif`, and `else`.\n",
        "\n",
        "## 1.1 Using `if`, `elif`, and `else` Statements\n",
        "\n",
        "The basic structure of a conditional statement in Python looks like this:\n",
        "\n",
        "\n",
        "\n",
        "```\n",
        "if condition:\n",
        "    # Code block to execute if condition is True\n",
        "elif another_condition:\n",
        "    # Code block to execute if another_condition is True\n",
        "else:\n",
        "    # Code block to execute if none of the conditions are True\n",
        "\n",
        "```\n",
        "\n"
      ],
      "metadata": {
        "id": "1sQRCuZ3MZ5h"
      }
    },
    {
      "cell_type": "code",
      "execution_count": 3,
      "metadata": {
        "colab": {
          "base_uri": "https://localhost:8080/"
        },
        "id": "m6OWRPYMLnPr",
        "outputId": "c55702ad-2544-47da-ae34-70d8b8dc325d"
      },
      "outputs": [
        {
          "output_type": "stream",
          "name": "stdout",
          "text": [
            "x is exactly 10\n"
          ]
        }
      ],
      "source": [
        "x = 10\n",
        "\n",
        "if x > 10:\n",
        "    print(\"x is greater than 10\")\n",
        "elif x == 10:\n",
        "    print(\"x is exactly 10\")\n",
        "else:\n",
        "    print(\"x is less than 10\")\n"
      ]
    },
    {
      "cell_type": "markdown",
      "source": [
        "## 1.2 Nesting and Combining Conditions\n",
        "\n",
        "You can also nest conditional statements inside other conditionals, and you can combine multiple conditions using logical operators (and, or, not)."
      ],
      "metadata": {
        "id": "aPn0t00NMyjZ"
      }
    },
    {
      "cell_type": "code",
      "source": [
        "x = 15\n",
        "y = 20\n",
        "\n",
        "if x > 10:\n",
        "    if y > 15:\n",
        "        print(\"Both x and y are greater than their respective thresholds.\")\n",
        "    else:\n",
        "        print(\"x is greater than 10, but y is not greater than 15.\")\n"
      ],
      "metadata": {
        "colab": {
          "base_uri": "https://localhost:8080/"
        },
        "id": "Bb8K3ediMguq",
        "outputId": "109d47aa-2706-4571-e428-19431c8cca03"
      },
      "execution_count": 4,
      "outputs": [
        {
          "output_type": "stream",
          "name": "stdout",
          "text": [
            "Both x and y are greater than their respective thresholds.\n"
          ]
        }
      ]
    },
    {
      "cell_type": "code",
      "source": [
        "x = 5\n",
        "y = 20\n",
        "\n",
        "if x > 0 and y > 10:\n",
        "    print(\"Both x is positive and y is greater than 10.\")\n",
        "\n",
        "if x < 0 or y > 15:\n",
        "    print(\"At least one of the conditions is true.\")\n"
      ],
      "metadata": {
        "colab": {
          "base_uri": "https://localhost:8080/"
        },
        "id": "5YTBt3wrMi8W",
        "outputId": "10fd6808-8ff0-4721-db1c-c24e53e59fa6"
      },
      "execution_count": 6,
      "outputs": [
        {
          "output_type": "stream",
          "name": "stdout",
          "text": [
            "Both x is positive and y is greater than 10.\n",
            "At least one of the conditions is true.\n"
          ]
        }
      ]
    },
    {
      "cell_type": "markdown",
      "source": [
        "## 1.3 Short-circuit Evaluation\n",
        "\n",
        "Python uses short-circuit evaluation with logical operators. This means that in a logical operation with and or or, Python stops evaluating as soon as the outcome is determined.\n",
        "\n",
        "    and: Python stops if any condition is False.\n",
        "    or: Python stops if any condition is True."
      ],
      "metadata": {
        "id": "VmMtCM0qM6Mv"
      }
    },
    {
      "cell_type": "code",
      "source": [
        "x = 5\n",
        "y = 0\n",
        "\n",
        "if x > 10 and y > 0:\n",
        "    print(\"This won't run because the first condition is False.\")\n",
        "else:\n",
        "    print(\"Since x is not greater than 10, this else block runs.\")\n",
        "\n",
        "if x < 10 or y > 0:\n",
        "    print(\"This runs because the first condition is True, even though y > 0 is False.\")\n"
      ],
      "metadata": {
        "colab": {
          "base_uri": "https://localhost:8080/"
        },
        "id": "CmwUk6LgM35P",
        "outputId": "15924bf7-764c-45e4-d9b7-15673b8771b0"
      },
      "execution_count": 7,
      "outputs": [
        {
          "output_type": "stream",
          "name": "stdout",
          "text": [
            "Since x is not greater than 10, this else block runs.\n",
            "This runs because the first condition is True, even though y > 0 is False.\n"
          ]
        }
      ]
    },
    {
      "cell_type": "markdown",
      "source": [
        "## Hands-on Practice\n",
        "\n",
        "Now, let's try creating a few more examples using conditional statements:\n",
        "Exercise 1: Create a program that checks if a number is positive, negative, or zero."
      ],
      "metadata": {
        "id": "zOdenzfXNA0F"
      }
    },
    {
      "cell_type": "code",
      "source": [],
      "metadata": {
        "id": "kKXcZV9fM9e3"
      },
      "execution_count": null,
      "outputs": []
    },
    {
      "cell_type": "markdown",
      "source": [
        "Exercise 2: Write a program that prints \"Success\" if a number is between 1 and 100, and \"Failure\" otherwise."
      ],
      "metadata": {
        "id": "Gh9sD7QDNFcv"
      }
    },
    {
      "cell_type": "markdown",
      "source": [
        "# Section 2: Control Flow - Loops\n",
        "\n",
        "Loops are a fundamental aspect of programming, allowing you to repeat code execution based on certain conditions. Python provides two main loop types: `for` loops and `while` loops.\n",
        "\n",
        "## 2.1 Introduction to Loops: `for` and `while`\n",
        "\n",
        "### `for` Loop\n",
        "The `for` loop is used to iterate over a sequence (like a list, tuple, dictionary, set, or string). The code inside the loop is executed for each item in the sequence.\n",
        "\n",
        "#### Example: Basic `for` Loop\n",
        "```python\n",
        "# Iterate over a list\n",
        "numbers = [1, 2, 3, 4, 5]\n",
        "for num in numbers:\n",
        "    print(num)\n",
        "```\n",
        "\n",
        "while Loop\n",
        "\n",
        "The while loop repeatedly executes a block of code as long as the condition is True."
      ],
      "metadata": {
        "id": "RVCXEBlaNcGg"
      }
    },
    {
      "cell_type": "code",
      "source": [
        "# A simple counter\n",
        "counter = 0\n",
        "while counter < 5:\n",
        "    print(\"Counter:\", counter)\n",
        "    counter += 1\n"
      ],
      "metadata": {
        "colab": {
          "base_uri": "https://localhost:8080/"
        },
        "id": "iVUQyLjANGam",
        "outputId": "a5d40763-7406-4f29-ccee-9033cfcc2075"
      },
      "execution_count": 8,
      "outputs": [
        {
          "output_type": "stream",
          "name": "stdout",
          "text": [
            "Counter: 0\n",
            "Counter: 1\n",
            "Counter: 2\n",
            "Counter: 3\n",
            "Counter: 4\n"
          ]
        }
      ]
    },
    {
      "cell_type": "markdown",
      "source": [
        "## 2.2 Loop Control Statements: break, continue, pass\n",
        "\n",
        "Sometimes, you may want to alter the normal flow of a loop using loop control statements.\n",
        "break\n",
        "\n",
        "The break statement is used to exit a loop prematurely when a certain condition is met."
      ],
      "metadata": {
        "id": "mbPnjHtbNk3C"
      }
    },
    {
      "cell_type": "code",
      "source": [
        "for i in range(1, 6):\n",
        "    if i == 4:\n",
        "        break\n",
        "    print(i)\n"
      ],
      "metadata": {
        "colab": {
          "base_uri": "https://localhost:8080/"
        },
        "id": "37i2J4D8NjHU",
        "outputId": "78b3ba9c-282c-4159-9660-91ca13b07d07"
      },
      "execution_count": 9,
      "outputs": [
        {
          "output_type": "stream",
          "name": "stdout",
          "text": [
            "1\n",
            "2\n",
            "3\n"
          ]
        }
      ]
    },
    {
      "cell_type": "markdown",
      "source": [
        "continue\n",
        "\n",
        "The continue statement skips the current iteration of a loop and proceeds to the next iteration."
      ],
      "metadata": {
        "id": "2HdY-GqeNoqh"
      }
    },
    {
      "cell_type": "code",
      "source": [
        "for i in range(1, 6):\n",
        "    if i == 3:\n",
        "        continue\n",
        "    print(i)\n"
      ],
      "metadata": {
        "colab": {
          "base_uri": "https://localhost:8080/"
        },
        "id": "Si9HSFQqNnGa",
        "outputId": "5fba92df-1586-4dca-e51a-708483c0884b"
      },
      "execution_count": 10,
      "outputs": [
        {
          "output_type": "stream",
          "name": "stdout",
          "text": [
            "1\n",
            "2\n",
            "4\n",
            "5\n"
          ]
        }
      ]
    },
    {
      "cell_type": "markdown",
      "source": [
        "pass\n",
        "\n",
        "The pass statement is a placeholder for future code. It does nothing but ensures the code is syntactically correct."
      ],
      "metadata": {
        "id": "UOCmmvuyNse1"
      }
    },
    {
      "cell_type": "code",
      "source": [
        "for i in range(1, 6):\n",
        "    if i == 3:\n",
        "        pass  # Placeholder for future code\n",
        "    print(i)\n"
      ],
      "metadata": {
        "colab": {
          "base_uri": "https://localhost:8080/"
        },
        "id": "aiKICV0INqeu",
        "outputId": "4a177ad6-231d-4d9f-f346-0450f6ab6b38"
      },
      "execution_count": 11,
      "outputs": [
        {
          "output_type": "stream",
          "name": "stdout",
          "text": [
            "1\n",
            "2\n",
            "3\n",
            "4\n",
            "5\n"
          ]
        }
      ]
    },
    {
      "cell_type": "markdown",
      "source": [
        "## 2.3 Using range() in for Loops\n",
        "\n",
        "The range() function is commonly used in for loops to generate sequences of numbers."
      ],
      "metadata": {
        "id": "n5zUIievNwNa"
      }
    },
    {
      "cell_type": "code",
      "source": [
        "for i in range(5):\n",
        "    print(i)\n"
      ],
      "metadata": {
        "colab": {
          "base_uri": "https://localhost:8080/"
        },
        "id": "oHVllyw6NuQd",
        "outputId": "e7d5572c-0960-42bd-85d4-2250d6f30187"
      },
      "execution_count": 12,
      "outputs": [
        {
          "output_type": "stream",
          "name": "stdout",
          "text": [
            "0\n",
            "1\n",
            "2\n",
            "3\n",
            "4\n"
          ]
        }
      ]
    },
    {
      "cell_type": "markdown",
      "source": [
        "Example: Specifying start, stop, and step in range()"
      ],
      "metadata": {
        "id": "BCt38aX8N1OM"
      }
    },
    {
      "cell_type": "code",
      "source": [
        "# range(start, stop, step)\n",
        "for i in range(1, 10, 2):\n",
        "    print(i)\n"
      ],
      "metadata": {
        "colab": {
          "base_uri": "https://localhost:8080/"
        },
        "id": "ReujY1OcNyQ7",
        "outputId": "86826ee2-bf1d-4e46-da75-02adf667bb92"
      },
      "execution_count": 13,
      "outputs": [
        {
          "output_type": "stream",
          "name": "stdout",
          "text": [
            "1\n",
            "3\n",
            "5\n",
            "7\n",
            "9\n"
          ]
        }
      ]
    },
    {
      "cell_type": "markdown",
      "source": [
        "## 2.4 Nested Loops\n",
        "\n",
        "A loop inside another loop is called a nested loop. Each iteration of the outer loop triggers a complete iteration of the inner loop."
      ],
      "metadata": {
        "id": "FC8L7-yRN2QP"
      }
    },
    {
      "cell_type": "code",
      "source": [
        "for i in range(1, 4):\n",
        "    for j in range(1, 4):\n",
        "        print(f\"i = {i}, j = {j}\")\n"
      ],
      "metadata": {
        "colab": {
          "base_uri": "https://localhost:8080/"
        },
        "id": "PxY2BDpWN4P4",
        "outputId": "074e1711-cbd2-4f58-ceee-986b1d4ea4fa"
      },
      "execution_count": 14,
      "outputs": [
        {
          "output_type": "stream",
          "name": "stdout",
          "text": [
            "i = 1, j = 1\n",
            "i = 1, j = 2\n",
            "i = 1, j = 3\n",
            "i = 2, j = 1\n",
            "i = 2, j = 2\n",
            "i = 2, j = 3\n",
            "i = 3, j = 1\n",
            "i = 3, j = 2\n",
            "i = 3, j = 3\n"
          ]
        }
      ]
    },
    {
      "cell_type": "markdown",
      "source": [
        "## Hands-on Practice\n",
        "Exercise 1: Write a program that uses a for loop to calculate the sum of all even numbers between 1 and 100."
      ],
      "metadata": {
        "id": "z3WpOTIxN7TQ"
      }
    },
    {
      "cell_type": "code",
      "source": [],
      "metadata": {
        "id": "LfMnNQNaN5Xg"
      },
      "execution_count": null,
      "outputs": []
    },
    {
      "cell_type": "markdown",
      "source": [
        "Exercise 2: Create a nested loop that prints a multiplication table for numbers 1 to 5."
      ],
      "metadata": {
        "id": "YZPO0FieN_jg"
      }
    },
    {
      "cell_type": "code",
      "source": [],
      "metadata": {
        "id": "zhvIH_NzN_3z"
      },
      "execution_count": null,
      "outputs": []
    },
    {
      "cell_type": "markdown",
      "source": [
        "Exercise 3: Modify a while loop to break when a user inputs a negative number."
      ],
      "metadata": {
        "id": "Eyt6EzpgOAYf"
      }
    },
    {
      "cell_type": "code",
      "source": [],
      "metadata": {
        "id": "sMrrSyE-OBxB"
      },
      "execution_count": null,
      "outputs": []
    },
    {
      "cell_type": "markdown",
      "source": [
        "# Section 3: Functions - Definition and Calling\n",
        "\n",
        "Functions are a fundamental building block in Python, allowing you to encapsulate code into reusable units. In this section, we will explore how to define, call, and return values from functions.\n",
        "\n",
        "## 3.1 Defining Functions Using `def` Keyword\n",
        "\n",
        "To define a function in Python, we use the `def` keyword followed by the function name and parentheses. Inside the parentheses, we can specify parameters (optional) that the function accepts.\n",
        "\n",
        "### Syntax of a Function Definition:\n",
        "```python\n",
        "def function_name(parameters):\n",
        "    \"\"\"\n",
        "    Optional documentation string (docstring).\n",
        "    \"\"\"\n",
        "    # Code block to execute\n",
        "    return result  # Optional return statement\n"
      ],
      "metadata": {
        "id": "Tz3afCsJOcJY"
      }
    },
    {
      "cell_type": "code",
      "source": [
        "def greet():\n",
        "    \"\"\"\n",
        "    A simple function that prints a greeting message.\n",
        "    \"\"\"\n",
        "    print(\"Hello, welcome to the Python world!\")\n"
      ],
      "metadata": {
        "id": "VzxH5RbQOd12"
      },
      "execution_count": 15,
      "outputs": []
    },
    {
      "cell_type": "markdown",
      "source": [
        "### Calling the Function\n",
        "\n",
        "Once a function is defined, you can call it by using its name followed by parentheses."
      ],
      "metadata": {
        "id": "66z32iceOhKV"
      }
    },
    {
      "cell_type": "code",
      "source": [
        "# Calling the greet function\n",
        "greet()\n"
      ],
      "metadata": {
        "colab": {
          "base_uri": "https://localhost:8080/"
        },
        "id": "oOS_VzFKOfJA",
        "outputId": "0bb75130-6226-4f9a-8f82-e6de8b6d254d"
      },
      "execution_count": 16,
      "outputs": [
        {
          "output_type": "stream",
          "name": "stdout",
          "text": [
            "Hello, welcome to the Python world!\n"
          ]
        }
      ]
    },
    {
      "cell_type": "markdown",
      "source": [
        "## 3.2 Calling Functions with and Without Parameters\n",
        "\n",
        "Functions can accept parameters (inputs), making them more versatile. Parameters allow you to pass data to the function when it is called."
      ],
      "metadata": {
        "id": "o1lcqMaAOmqR"
      }
    },
    {
      "cell_type": "code",
      "source": [
        "def greet_user(name):\n",
        "    \"\"\"\n",
        "    A function that greets a user by their name.\n",
        "    \"\"\"\n",
        "    print(f\"Hello, {name}! Welcome to the Python world!\")\n"
      ],
      "metadata": {
        "id": "MCHfc-EiOkI0"
      },
      "execution_count": 17,
      "outputs": []
    },
    {
      "cell_type": "markdown",
      "source": [
        "### Calling function with a parameter"
      ],
      "metadata": {
        "id": "yLTATwwKOqcp"
      }
    },
    {
      "cell_type": "code",
      "source": [
        "# Passing a name to the greet_user function\n",
        "greet_user(\"Alice\")\n"
      ],
      "metadata": {
        "colab": {
          "base_uri": "https://localhost:8080/"
        },
        "id": "7jEZ50NUOpW8",
        "outputId": "3f3d976d-6050-41b6-cf78-9ad88b434aa5"
      },
      "execution_count": 18,
      "outputs": [
        {
          "output_type": "stream",
          "name": "stdout",
          "text": [
            "Hello, Alice! Welcome to the Python world!\n"
          ]
        }
      ]
    },
    {
      "cell_type": "markdown",
      "source": [
        "### With multiple parameters"
      ],
      "metadata": {
        "id": "u32XgMEUO0F2"
      }
    },
    {
      "cell_type": "code",
      "source": [
        "def add_numbers(a, b):\n",
        "    \"\"\"\n",
        "    A function that adds two numbers and prints the result.\n",
        "    \"\"\"\n",
        "    result = a + b\n",
        "    print(f\"The sum of {a} and {b} is {result}.\")\n"
      ],
      "metadata": {
        "id": "f8341LHYOuLw"
      },
      "execution_count": 19,
      "outputs": []
    },
    {
      "cell_type": "code",
      "source": [
        "# Passing two numbers to the add_numbers function\n",
        "add_numbers(5, 3)\n"
      ],
      "metadata": {
        "colab": {
          "base_uri": "https://localhost:8080/"
        },
        "id": "G0YpqkPSOyL7",
        "outputId": "b9303293-9ba2-40ec-a4ec-6c05c14388fc"
      },
      "execution_count": 20,
      "outputs": [
        {
          "output_type": "stream",
          "name": "stdout",
          "text": [
            "The sum of 5 and 3 is 8.\n"
          ]
        }
      ]
    },
    {
      "cell_type": "code",
      "source": [],
      "metadata": {
        "id": "k008ue2uOzb5"
      },
      "execution_count": null,
      "outputs": []
    },
    {
      "cell_type": "markdown",
      "source": [
        "## 3.3 Returning Values from Functions\n",
        "\n",
        "Functions can also return values using the return statement. This allows you to capture the output of the function and use it elsewhere in your program."
      ],
      "metadata": {
        "id": "mvRwNokXO3nl"
      }
    },
    {
      "cell_type": "code",
      "source": [
        "def multiply_numbers(a, b):\n",
        "    \"\"\"\n",
        "    A function that multiplies two numbers and returns the result.\n",
        "    \"\"\"\n",
        "    return a * b\n"
      ],
      "metadata": {
        "id": "C4GDCDHLO5bF"
      },
      "execution_count": 21,
      "outputs": []
    },
    {
      "cell_type": "code",
      "source": [
        "# Calling the function and storing the result in a variable\n",
        "result = multiply_numbers(4, 6)\n",
        "print(f\"The result of multiplication is {result}.\")\n"
      ],
      "metadata": {
        "colab": {
          "base_uri": "https://localhost:8080/"
        },
        "id": "HPjJO7hBO6dA",
        "outputId": "d66a5a61-0a36-4ac7-e5a1-403076789988"
      },
      "execution_count": 22,
      "outputs": [
        {
          "output_type": "stream",
          "name": "stdout",
          "text": [
            "The result of multiplication is 24.\n"
          ]
        }
      ]
    },
    {
      "cell_type": "markdown",
      "source": [
        "### Multiple Return Values\n"
      ],
      "metadata": {
        "id": "dvH0PoUdO9Mb"
      }
    },
    {
      "cell_type": "code",
      "source": [
        "def get_area_and_perimeter(length, width):\n",
        "    \"\"\"\n",
        "    A function that returns both the area and perimeter of a rectangle.\n",
        "    \"\"\"\n",
        "    area = length * width\n",
        "    perimeter = 2 * (length + width)\n",
        "    return area, perimeter\n"
      ],
      "metadata": {
        "id": "mKy0NGqGO7qb"
      },
      "execution_count": 23,
      "outputs": []
    },
    {
      "cell_type": "code",
      "source": [
        "# Storing multiple return values\n",
        "area, perimeter = get_area_and_perimeter(5, 3)\n",
        "print(f\"Area: {area}, Perimeter: {perimeter}\")\n"
      ],
      "metadata": {
        "colab": {
          "base_uri": "https://localhost:8080/"
        },
        "id": "0Mzm8RuZO_MC",
        "outputId": "2ed26377-59ed-40b3-95cd-906912fbc24f"
      },
      "execution_count": 24,
      "outputs": [
        {
          "output_type": "stream",
          "name": "stdout",
          "text": [
            "Area: 15, Perimeter: 16\n"
          ]
        }
      ]
    },
    {
      "cell_type": "markdown",
      "source": [
        "## Hands-on Practice\n",
        "Exercise 1: Write a function that takes two numbers and returns their difference."
      ],
      "metadata": {
        "id": "zkd2wvHePCeM"
      }
    },
    {
      "cell_type": "code",
      "source": [],
      "metadata": {
        "id": "6QNQ-cu_PAiZ"
      },
      "execution_count": null,
      "outputs": []
    },
    {
      "cell_type": "markdown",
      "source": [
        "Exercise 2: Create a function that accepts a list of numbers and returns the largest number in the list."
      ],
      "metadata": {
        "id": "znaS0Dn6PEPf"
      }
    },
    {
      "cell_type": "code",
      "source": [],
      "metadata": {
        "id": "fF8sBu4GPItE"
      },
      "execution_count": null,
      "outputs": []
    },
    {
      "cell_type": "markdown",
      "source": [
        "Exercise 3: Write a function that takes a string and returns the number of vowels in the string."
      ],
      "metadata": {
        "id": "3Ywj6M7sPGXA"
      }
    },
    {
      "cell_type": "markdown",
      "source": [
        "# Section 4: Functions - Parameters and Return Values\n",
        "\n",
        "In this section, we explore different ways to pass arguments to functions, work with variable-length arguments, and return multiple values from a function.\n",
        "\n",
        "---\n",
        "\n",
        "## 4.1 Positional vs Keyword Arguments\n",
        "\n",
        "When calling a function, you can pass arguments in two ways: **positional** and **keyword** arguments.\n",
        "\n",
        "### Positional Arguments\n",
        "Positional arguments are the most common type of argument. The values are assigned to the parameters in the order they are provided.\n",
        "\n",
        "#### Example: Positional Arguments\n",
        "```python\n",
        "def display_info(name, age):\n",
        "    print(f\"Name: {name}, Age: {age}\")\n"
      ],
      "metadata": {
        "id": "bNJqpGAOPfaB"
      }
    },
    {
      "cell_type": "code",
      "source": [
        "def display_info(name, age):\n",
        "    print(f\"Name: {name}, Age: {age}\")\n",
        "# Calling the function with positional arguments\n",
        "display_info(\"Alice\", 30)\n"
      ],
      "metadata": {
        "colab": {
          "base_uri": "https://localhost:8080/"
        },
        "id": "QtbvsXHHPJGS",
        "outputId": "e17fb253-7c2b-473d-b45c-733911f77d54"
      },
      "execution_count": 26,
      "outputs": [
        {
          "output_type": "stream",
          "name": "stdout",
          "text": [
            "Name: Alice, Age: 30\n"
          ]
        }
      ]
    },
    {
      "cell_type": "markdown",
      "source": [
        "### Keyword Arguments\n",
        "\n",
        "Keyword arguments are passed to a function using the parameter names explicitly. This allows you to change the order of arguments when calling the function."
      ],
      "metadata": {
        "id": "-LQEyuFXPxRJ"
      }
    },
    {
      "cell_type": "code",
      "source": [
        "# Calling the function with keyword arguments\n",
        "display_info(age=30, name=\"Alice\")\n"
      ],
      "metadata": {
        "colab": {
          "base_uri": "https://localhost:8080/"
        },
        "id": "r4VDu4d5PjI3",
        "outputId": "0a377e62-0380-4183-a111-45ced6bfa283"
      },
      "execution_count": 27,
      "outputs": [
        {
          "output_type": "stream",
          "name": "stdout",
          "text": [
            "Name: Alice, Age: 30\n"
          ]
        }
      ]
    },
    {
      "cell_type": "markdown",
      "source": [
        "## 4.2 Default Parameter Values\n",
        "\n",
        "In Python, you can define default values for function parameters. This means that if a caller does not provide a value for a parameter, the default value is used."
      ],
      "metadata": {
        "id": "HV4HCPeSP1J2"
      }
    },
    {
      "cell_type": "code",
      "source": [
        "def greet_user(name=\"Guest\"):\n",
        "    print(f\"Hello, {name}!\")\n"
      ],
      "metadata": {
        "id": "NGff-C6SPy6k"
      },
      "execution_count": 28,
      "outputs": []
    },
    {
      "cell_type": "code",
      "source": [
        "# Calling the function without providing a value for 'name'\n",
        "greet_user()\n"
      ],
      "metadata": {
        "colab": {
          "base_uri": "https://localhost:8080/"
        },
        "id": "eT0XM_MuP3y5",
        "outputId": "bef02527-3582-4dfa-f604-20bf6a6885ba"
      },
      "execution_count": 29,
      "outputs": [
        {
          "output_type": "stream",
          "name": "stdout",
          "text": [
            "Hello, Guest!\n"
          ]
        }
      ]
    },
    {
      "cell_type": "markdown",
      "source": [
        "You can still override the default value by providing a specific argument."
      ],
      "metadata": {
        "id": "11v4PR1tP7UQ"
      }
    },
    {
      "cell_type": "code",
      "source": [
        "# Calling the function with an argument\n",
        "greet_user(\"Alice\")\n"
      ],
      "metadata": {
        "colab": {
          "base_uri": "https://localhost:8080/"
        },
        "id": "r76B25aoP46s",
        "outputId": "640b48df-5e8d-444c-a913-86c6746c26bd"
      },
      "execution_count": 30,
      "outputs": [
        {
          "output_type": "stream",
          "name": "stdout",
          "text": [
            "Hello, Alice!\n"
          ]
        }
      ]
    },
    {
      "cell_type": "markdown",
      "source": [
        "## 4.3 Variable-Length Arguments: *args and **kwargs\n",
        "\n",
        "Python allows you to pass a variable number of arguments to a function using *args (for non-keyword arguments) and **kwargs (for keyword arguments).\n",
        "Using *args for Variable-Length Positional Arguments\n",
        "\n",
        "*args collects extra positional arguments passed to the function into a tuple."
      ],
      "metadata": {
        "id": "jEQdBwkwP-rs"
      }
    },
    {
      "cell_type": "code",
      "source": [
        "def add_numbers(*args):\n",
        "    result = sum(args)\n",
        "    print(f\"The sum is {result}\")\n"
      ],
      "metadata": {
        "id": "eFV_iCy3P822"
      },
      "execution_count": 31,
      "outputs": []
    },
    {
      "cell_type": "code",
      "source": [
        "# Calling the function with variable-length arguments\n",
        "add_numbers(1, 2, 3, 4)\n"
      ],
      "metadata": {
        "colab": {
          "base_uri": "https://localhost:8080/"
        },
        "id": "J3w1MxRMQARp",
        "outputId": "719f063b-0fe7-47f6-c583-dde9780c3f9e"
      },
      "execution_count": 32,
      "outputs": [
        {
          "output_type": "stream",
          "name": "stdout",
          "text": [
            "The sum is 10\n"
          ]
        }
      ]
    },
    {
      "cell_type": "markdown",
      "source": [
        "### Using **kwargs for Variable-Length Keyword Arguments\n",
        "\n",
        "**kwargs collects extra keyword arguments passed to the function into a dictionary."
      ],
      "metadata": {
        "id": "L4n1W77tQD9n"
      }
    },
    {
      "cell_type": "code",
      "source": [
        "def display_info(**kwargs):\n",
        "    for key, value in kwargs.items():\n",
        "        print(f\"{key}: {value}\")\n"
      ],
      "metadata": {
        "id": "tk5kBWhdQCEX"
      },
      "execution_count": 33,
      "outputs": []
    },
    {
      "cell_type": "code",
      "source": [
        "# Calling the function with keyword arguments\n",
        "display_info(name=\"Alice\", age=30, city=\"New York\")\n"
      ],
      "metadata": {
        "colab": {
          "base_uri": "https://localhost:8080/"
        },
        "id": "iDnjzR2eQFNm",
        "outputId": "20bf2dcf-7468-4cbd-cee2-142d3ab0912f"
      },
      "execution_count": 34,
      "outputs": [
        {
          "output_type": "stream",
          "name": "stdout",
          "text": [
            "name: Alice\n",
            "age: 30\n",
            "city: New York\n"
          ]
        }
      ]
    },
    {
      "cell_type": "markdown",
      "source": [
        "## 4.4 Returning Multiple Values\n",
        "\n",
        "In Python, a function can return more than one value. These values are returned as a tuple."
      ],
      "metadata": {
        "id": "KcAQUPAFQH2C"
      }
    },
    {
      "cell_type": "code",
      "source": [
        "def get_min_max(numbers):\n",
        "    return min(numbers), max(numbers)\n"
      ],
      "metadata": {
        "id": "3vaYheSKQGEY"
      },
      "execution_count": 35,
      "outputs": []
    },
    {
      "cell_type": "code",
      "source": [
        "# Calling the function and unpacking the returned values\n",
        "min_value, max_value = get_min_max([2, 5, 1, 9])\n",
        "print(f\"Min: {min_value}, Max: {max_value}\")\n"
      ],
      "metadata": {
        "colab": {
          "base_uri": "https://localhost:8080/"
        },
        "id": "Ibar87A1QJbE",
        "outputId": "f44df98d-57bd-48c0-eb52-2ed074bb5905"
      },
      "execution_count": 36,
      "outputs": [
        {
          "output_type": "stream",
          "name": "stdout",
          "text": [
            "Min: 1, Max: 9\n"
          ]
        }
      ]
    },
    {
      "cell_type": "markdown",
      "source": [
        "## Hands-on Practice\n",
        "Exercise 1: Write a function that takes in a list of numbers and returns both the sum and the average of the numbers.**bold text**"
      ],
      "metadata": {
        "id": "w9RbJr1cQL5d"
      }
    },
    {
      "cell_type": "code",
      "source": [],
      "metadata": {
        "id": "VIg5C4VlQKUp"
      },
      "execution_count": 36,
      "outputs": []
    },
    {
      "cell_type": "markdown",
      "source": [
        "Exercise 2: Create a function that accepts any number of keyword arguments (**kwargs) and prints out the keys and values."
      ],
      "metadata": {
        "id": "dHl9MWH7QO5u"
      }
    },
    {
      "cell_type": "code",
      "source": [],
      "metadata": {
        "id": "sQC-c63rQOgq"
      },
      "execution_count": 36,
      "outputs": []
    },
    {
      "cell_type": "markdown",
      "source": [
        "Exercise 3: Write a function that accepts a string and returns both the uppercase and lowercase versions of the string."
      ],
      "metadata": {
        "id": "jxFr0GqdQPjt"
      }
    },
    {
      "cell_type": "markdown",
      "source": [
        "# Section 5: Scope and Lifetime of Variables\n",
        "\n",
        "In this section, we will explore how Python manages the scope and lifetime of variables, including the difference between local and global variables, how to use the `global` and `nonlocal` keywords, and an introduction to garbage collection.\n",
        "\n",
        "---\n",
        "\n",
        "## 5.1 Local vs Global Variables\n",
        "\n",
        "In Python, the **scope** of a variable determines where the variable can be accessed. Variables can either be **local** or **global** in scope.\n",
        "\n",
        "### Local Variables\n",
        "\n",
        "A local variable is defined inside a function and is only accessible within that function.\n",
        "\n",
        "#### Example: Local Variables"
      ],
      "metadata": {
        "id": "OEl8Ov-9QYxP"
      }
    },
    {
      "cell_type": "code",
      "source": [
        "def my_function():\n",
        "    x = 10  # x is a local variable\n",
        "    print(x)\n",
        "my_function()"
      ],
      "metadata": {
        "colab": {
          "base_uri": "https://localhost:8080/"
        },
        "id": "9qWjf28oQOj2",
        "outputId": "7c1ac4f5-011c-4304-b854-718475e67ed9"
      },
      "execution_count": 37,
      "outputs": [
        {
          "output_type": "stream",
          "name": "stdout",
          "text": [
            "10\n"
          ]
        }
      ]
    },
    {
      "cell_type": "markdown",
      "source": [
        "Trying to access x outside the function will result in an error, as x is local to my_function."
      ],
      "metadata": {
        "id": "W1RYFCoVQecc"
      }
    },
    {
      "cell_type": "code",
      "source": [
        "print(x)  # This will raise a NameError\n"
      ],
      "metadata": {
        "colab": {
          "base_uri": "https://localhost:8080/"
        },
        "id": "lJHWTxuTQcN5",
        "outputId": "b21589da-9978-4477-ee8e-a1c2c42b50a1"
      },
      "execution_count": 38,
      "outputs": [
        {
          "output_type": "stream",
          "name": "stdout",
          "text": [
            "5\n"
          ]
        }
      ]
    },
    {
      "cell_type": "code",
      "source": [],
      "metadata": {
        "id": "imtIMCMUQfw3"
      },
      "execution_count": null,
      "outputs": []
    },
    {
      "cell_type": "markdown",
      "source": [
        "### Global Variables\n",
        "\n",
        "A global variable is defined outside of any function and can be accessed anywhere in the code.**bold text**"
      ],
      "metadata": {
        "id": "KsRLJ1rAQhLp"
      }
    },
    {
      "cell_type": "code",
      "source": [
        "x = 5  # Global variable\n",
        "\n",
        "def my_function():\n",
        "    print(x)  # Accessing global variable\n",
        "# Calling the function\n",
        "my_function()\n"
      ],
      "metadata": {
        "colab": {
          "base_uri": "https://localhost:8080/"
        },
        "id": "n99b-d45Qhg1",
        "outputId": "2687f8b0-5f06-4a46-9a77-ee63f90a39ae"
      },
      "execution_count": 39,
      "outputs": [
        {
          "output_type": "stream",
          "name": "stdout",
          "text": [
            "5\n"
          ]
        }
      ]
    },
    {
      "cell_type": "markdown",
      "source": [
        "Global variables can be accessed inside a function, but if you want to modify them, you need to declare them using the global keyword."
      ],
      "metadata": {
        "id": "Ohg9F-EGQlJO"
      }
    },
    {
      "cell_type": "markdown",
      "source": [
        "## 5.2 Using global and nonlocal Keywords\n",
        "### The global Keyword\n",
        "\n",
        "The global keyword allows you to modify a global variable inside a function."
      ],
      "metadata": {
        "id": "ii_wrLeKQnkK"
      }
    },
    {
      "cell_type": "code",
      "source": [
        "x = 5  # Global variable\n",
        "\n",
        "def modify_global():\n",
        "    global x  # Declaring x as global\n",
        "    x = 10  # Modifying global variable\n",
        "# Modifying and printing the global variable\n",
        "modify_global()\n",
        "print(x)\n"
      ],
      "metadata": {
        "colab": {
          "base_uri": "https://localhost:8080/"
        },
        "id": "-6PF5h5nQjg_",
        "outputId": "efc94f09-ff8e-4071-e659-6770e6035ea5"
      },
      "execution_count": 40,
      "outputs": [
        {
          "output_type": "stream",
          "name": "stdout",
          "text": [
            "10\n"
          ]
        }
      ]
    },
    {
      "cell_type": "markdown",
      "source": [
        "### The nonlocal Keyword\n",
        "\n",
        "The nonlocal keyword allows you to modify a variable in the nearest enclosing scope, but not in the global scope. This is useful when working with nested functions."
      ],
      "metadata": {
        "id": "tz2S3iIpQtGb"
      }
    },
    {
      "cell_type": "code",
      "source": [
        "def outer_function():\n",
        "    x = 5  # Enclosing variable\n",
        "\n",
        "    def inner_function():\n",
        "        nonlocal x  # Refers to the x in the enclosing function\n",
        "        x = 10  # Modifying enclosing variable\n",
        "\n",
        "    inner_function()\n",
        "    print(x)\n"
      ],
      "metadata": {
        "id": "ldcF4TlaQqAY"
      },
      "execution_count": 41,
      "outputs": []
    },
    {
      "cell_type": "code",
      "source": [
        "# Calling the outer function\n",
        "outer_function()\n"
      ],
      "metadata": {
        "colab": {
          "base_uri": "https://localhost:8080/"
        },
        "id": "ZhJ9N7leQurp",
        "outputId": "14bcab9b-e558-434e-a184-3ed54d08b82c"
      },
      "execution_count": 42,
      "outputs": [
        {
          "output_type": "stream",
          "name": "stdout",
          "text": [
            "10\n"
          ]
        }
      ]
    },
    {
      "cell_type": "markdown",
      "source": [
        "## 5.3 Understanding Variable Lifetime and Garbage Collection\n",
        "Variable Lifetime\n",
        "\n",
        "The lifetime of a variable is the period during which it exists in memory. Local variables are created when the function is called and destroyed when the function exits. Global variables, on the other hand, exist for the duration of the program."
      ],
      "metadata": {
        "id": "FlbqzhSUQxSj"
      }
    },
    {
      "cell_type": "code",
      "source": [
        "def my_function():\n",
        "    x = 10  # Local variable created\n",
        "    print(x)\n",
        "\n",
        "my_function()\n",
        "# x is destroyed once the function ends\n"
      ],
      "metadata": {
        "colab": {
          "base_uri": "https://localhost:8080/"
        },
        "id": "CA-ZQv2EQvvv",
        "outputId": "14bcf2ab-5f5b-4e00-8dd7-fe206f93441e"
      },
      "execution_count": 43,
      "outputs": [
        {
          "output_type": "stream",
          "name": "stdout",
          "text": [
            "10\n"
          ]
        }
      ]
    },
    {
      "cell_type": "markdown",
      "source": [
        "### Garbage Collection\n",
        "\n",
        "Python uses garbage collection to automatically free memory when objects are no longer needed. Python’s garbage collector uses a technique called reference counting, where objects are deallocated when there are no references to them."
      ],
      "metadata": {
        "id": "Tm34hvvfQ1KQ"
      }
    },
    {
      "cell_type": "code",
      "source": [
        "a = [1, 2, 3]  # List object created\n",
        "b = a  # Reference created\n",
        "del a  # One reference deleted\n",
        "del b  # Last reference deleted, object is collected\n"
      ],
      "metadata": {
        "id": "ML_Lu5JCQygs"
      },
      "execution_count": 44,
      "outputs": []
    },
    {
      "cell_type": "markdown",
      "source": [
        "## Hands-on Practice\n",
        "Exercise 1: Modify a global variable inside a function using the global keyword."
      ],
      "metadata": {
        "id": "FCADL1bJQ3QZ"
      }
    },
    {
      "cell_type": "code",
      "source": [],
      "metadata": {
        "id": "G1P99ekBQ2dQ"
      },
      "execution_count": 44,
      "outputs": []
    },
    {
      "cell_type": "markdown",
      "source": [
        "Exercise 2: Modify an enclosing variable in a nested function using the nonlocal keyword."
      ],
      "metadata": {
        "id": "nYkcqSddQ5VR"
      }
    },
    {
      "cell_type": "code",
      "source": [],
      "metadata": {
        "id": "j9pABvapQ4qR"
      },
      "execution_count": 44,
      "outputs": []
    },
    {
      "cell_type": "markdown",
      "source": [
        "Exercise 3: Write a function that creates a local variable and observe how its lifetime is limited to the function's execution."
      ],
      "metadata": {
        "id": "ij8GD2GkQ6hK"
      }
    },
    {
      "cell_type": "code",
      "source": [],
      "metadata": {
        "id": "k7vAYy3cQ4sj"
      },
      "execution_count": 44,
      "outputs": []
    },
    {
      "cell_type": "markdown",
      "source": [
        "# Section 6: Lambda Functions\n",
        "\n",
        "In this section, we will cover lambda functions in Python, also known as **anonymous functions**. We will explore their use cases, syntax, and compare them with regular function definitions.\n",
        "\n",
        "---\n",
        "\n",
        "## 6.1 Introduction to Anonymous Functions Using `lambda`\n",
        "\n",
        "A **lambda function** in Python is a small anonymous function defined without a name. Unlike a standard function, which is defined using the `def` keyword, a lambda function is defined using the `lambda` keyword. These functions can have any number of arguments but only one expression.\n",
        "\n",
        "### Syntax of Lambda Function:\n",
        "```python\n",
        "lambda arguments: expression\n"
      ],
      "metadata": {
        "id": "KUUcdKksRBl1"
      }
    },
    {
      "cell_type": "markdown",
      "source": [
        "Arguments: The input parameters to the lambda function.\n",
        "Expression: A single expression that is evaluated and returned."
      ],
      "metadata": {
        "id": "JYwlRK0GRQvP"
      }
    },
    {
      "cell_type": "code",
      "source": [
        "# Lambda function to add 10 to the input\n",
        "add_10 = lambda x: x + 10\n",
        "\n",
        "# Calling the lambda function\n",
        "print(add_10(5))\n"
      ],
      "metadata": {
        "colab": {
          "base_uri": "https://localhost:8080/"
        },
        "id": "okBHvudGRPHv",
        "outputId": "071b9b54-9ba2-4205-f60a-d161bc36ef4f"
      },
      "execution_count": 45,
      "outputs": [
        {
          "output_type": "stream",
          "name": "stdout",
          "text": [
            "15\n"
          ]
        }
      ]
    },
    {
      "cell_type": "markdown",
      "source": [
        "## 6.2 Use Cases for Lambda: Short, Throwaway Functions\n",
        "\n",
        "Lambda functions are typically used for short, throwaway functions where defining a full function using def would be overkill. They are particularly useful in contexts such as:\n",
        "\n",
        "* Passing functions as arguments to other functions.\n",
        "* Used with functions like map(), filter(), and sorted()."
      ],
      "metadata": {
        "id": "RCUpD8cKRULJ"
      }
    },
    {
      "cell_type": "code",
      "source": [
        "# Using lambda with map() to square elements in a list\n",
        "numbers = [1, 2, 3, 4]\n",
        "squared = list(map(lambda x: x ** 2, numbers))\n",
        "\n",
        "print(squared)\n"
      ],
      "metadata": {
        "colab": {
          "base_uri": "https://localhost:8080/"
        },
        "id": "HT9E3uhKRSSP",
        "outputId": "5d390552-9b0a-414b-e20a-71d0e3b960cb"
      },
      "execution_count": 46,
      "outputs": [
        {
          "output_type": "stream",
          "name": "stdout",
          "text": [
            "[1, 4, 9, 16]\n"
          ]
        }
      ]
    },
    {
      "cell_type": "code",
      "source": [
        "# Using lambda with filter() to filter out even numbers\n",
        "numbers = [1, 2, 3, 4, 5, 6]\n",
        "evens = list(filter(lambda x: x % 2 == 0, numbers))\n",
        "\n",
        "print(evens)\n"
      ],
      "metadata": {
        "colab": {
          "base_uri": "https://localhost:8080/"
        },
        "id": "D1p4qW7eRXw8",
        "outputId": "408785a3-db16-4872-c221-8b08efcbd099"
      },
      "execution_count": 47,
      "outputs": [
        {
          "output_type": "stream",
          "name": "stdout",
          "text": [
            "[2, 4, 6]\n"
          ]
        }
      ]
    },
    {
      "cell_type": "markdown",
      "source": [
        "## 6.3 Comparison with Regular Function Definitions\n",
        "\n",
        "While lambda functions are useful for quick, one-off tasks, they have limitations compared to regular function definitions:\n",
        "Regular Function Defined with def:\n",
        "\n",
        "* Can have multiple expressions or statements.\n",
        "* More readable for complex functions.\n",
        "* Can have docstrings for documentation.\n",
        "\n",
        "Lambda Function:\n",
        "\n",
        "* Limited to a single expression.\n",
        "* More concise and can be used where functions are needed as arguments."
      ],
      "metadata": {
        "id": "eFB5Nj9ERbjK"
      }
    },
    {
      "cell_type": "code",
      "source": [
        "# Regular function to add two numbers\n",
        "def add(a, b):\n",
        "    return a + b\n",
        "\n",
        "# Equivalent lambda function\n",
        "add_lambda = lambda a, b: a + b\n",
        "\n",
        "# Calling both functions\n",
        "print(add(5, 3))        # Regular function\n",
        "print(add_lambda(5, 3))  # Lambda function\n"
      ],
      "metadata": {
        "colab": {
          "base_uri": "https://localhost:8080/"
        },
        "id": "h8PxtZENRZZl",
        "outputId": "2a72e141-98b9-4844-9163-8a8a241fdc6a"
      },
      "execution_count": 48,
      "outputs": [
        {
          "output_type": "stream",
          "name": "stdout",
          "text": [
            "8\n",
            "8\n"
          ]
        }
      ]
    },
    {
      "cell_type": "markdown",
      "source": [
        "## Hands-on Practice\n",
        "Exercise 1: Write a lambda function to multiply two numbers and call it with different values."
      ],
      "metadata": {
        "id": "xe30qEyrRkrT"
      }
    },
    {
      "cell_type": "code",
      "source": [],
      "metadata": {
        "id": "pDWvVK7dRhei"
      },
      "execution_count": 48,
      "outputs": []
    },
    {
      "cell_type": "markdown",
      "source": [
        "Exercise 2: Use a lambda function with filter() to find all numbers greater than 10 in a list."
      ],
      "metadata": {
        "id": "EuDJqKwORnQs"
      }
    },
    {
      "cell_type": "code",
      "source": [],
      "metadata": {
        "id": "lytr1djtRmhh"
      },
      "execution_count": 48,
      "outputs": []
    },
    {
      "cell_type": "markdown",
      "source": [
        "Exercise 3: Write a regular function and a lambda function that do the same thing and compare their readability and length."
      ],
      "metadata": {
        "id": "FgxYTEVyRo_k"
      }
    },
    {
      "cell_type": "code",
      "source": [],
      "metadata": {
        "id": "0QppUbVFRmk8"
      },
      "execution_count": null,
      "outputs": []
    }
  ]
}