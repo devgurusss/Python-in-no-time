{
  "nbformat": 4,
  "nbformat_minor": 0,
  "metadata": {
    "colab": {
      "provenance": []
    },
    "kernelspec": {
      "name": "python3",
      "display_name": "Python 3"
    },
    "language_info": {
      "name": "python"
    }
  },
  "cells": [
    {
      "cell_type": "markdown",
      "source": [
        "# Section 1: Lists and List Comprehensions\n",
        "\n",
        "In this section, we will explore Python's **list** data structure and the concept of **list comprehensions**. We will cover basic list operations, methods, slicing, indexing, and how to use comprehensions for efficient list creation.\n",
        "\n",
        "---\n",
        "\n",
        "## 1.1 Introduction to Lists and List Methods\n",
        "\n",
        "A **list** in Python is a mutable, ordered collection of elements. Lists can store items of any data type, and they allow for adding, removing, and modifying elements.\n",
        "\n",
        "### Example: Creating a List\n",
        "```python\n",
        "# Creating a list of integers\n"
      ],
      "metadata": {
        "id": "jGxsW87xU7vc"
      }
    },
    {
      "cell_type": "code",
      "execution_count": 1,
      "metadata": {
        "colab": {
          "base_uri": "https://localhost:8080/"
        },
        "id": "_B6T-rMkU3G2",
        "outputId": "41074a51-f777-4a4b-e711-627c03d0102c"
      },
      "outputs": [
        {
          "output_type": "stream",
          "name": "stdout",
          "text": [
            "[1, 2, 3, 4, 5]\n"
          ]
        }
      ],
      "source": [
        "numbers = [1, 2, 3, 4, 5]\n",
        "print(numbers)\n"
      ]
    },
    {
      "cell_type": "markdown",
      "source": [
        "Lists come with several built-in methods that allow us to manipulate them:\n",
        "Common List Methods:\n",
        "* append(): Adds an element to the end of the list.\n",
        "* remove(): Removes the first occurrence of the specified value.\n",
        "* pop(): Removes and returns the element at the given index (default is the last item).\n",
        "* insert(): Inserts an element at a specific position.\n",
        "* clear(): Removes all elements from the list.\n",
        "* index(): Returns the index of the first occurrence of the specified value."
      ],
      "metadata": {
        "id": "C5jD6SP9VC_l"
      }
    },
    {
      "cell_type": "code",
      "source": [
        "# Initializing a list\n",
        "fruits = ['apple', 'banana', 'cherry']\n",
        "\n",
        "# Append method\n",
        "fruits.append('orange')\n",
        "\n",
        "# Remove method\n",
        "fruits.remove('banana')\n",
        "\n",
        "# Pop method\n",
        "popped_item = fruits.pop()\n",
        "\n",
        "# Insert method\n",
        "fruits.insert(1, 'mango')\n",
        "\n",
        "# Output the final list\n",
        "print(fruits)\n"
      ],
      "metadata": {
        "colab": {
          "base_uri": "https://localhost:8080/"
        },
        "id": "gfwSe1OYU_nn",
        "outputId": "1bd1c356-b5d7-4b78-d73a-ef5f228ca264"
      },
      "execution_count": 2,
      "outputs": [
        {
          "output_type": "stream",
          "name": "stdout",
          "text": [
            "['apple', 'mango', 'cherry']\n"
          ]
        }
      ]
    },
    {
      "cell_type": "markdown",
      "source": [
        "## 1.2 Slicing and Indexing Lists\n",
        "\n",
        "Python lists support indexing and slicing, allowing access to individual elements or a range of elements.\n",
        "Indexing:\n",
        "\n",
        "You can access list elements by their index (position). Indexes in Python start from 0."
      ],
      "metadata": {
        "id": "5eI8JS4HVH_E"
      }
    },
    {
      "cell_type": "code",
      "source": [
        "numbers = [10, 20, 30, 40, 50]\n",
        "print(numbers[0])  # First element\n",
        "print(numbers[-1]) # Last element\n"
      ],
      "metadata": {
        "colab": {
          "base_uri": "https://localhost:8080/"
        },
        "id": "JNiA68C1VGCG",
        "outputId": "c2603364-98c0-4cac-8647-72ea0676436d"
      },
      "execution_count": 3,
      "outputs": [
        {
          "output_type": "stream",
          "name": "stdout",
          "text": [
            "10\n",
            "50\n"
          ]
        }
      ]
    },
    {
      "cell_type": "markdown",
      "source": [
        "### Slicing:\n",
        "\n",
        "Slicing allows you to extract a portion of a list by specifying a start and end index. The syntax is:\n",
        "```python\n",
        "list[start:end]\n",
        "```\n",
        "* start: The index where the slice starts (inclusive).\n",
        "* end: The index where the slice ends (exclusive)."
      ],
      "metadata": {
        "id": "rNunvLKEVLq8"
      }
    },
    {
      "cell_type": "code",
      "source": [
        "numbers = [10, 20, 30, 40, 50]\n",
        "print(numbers[1:4])  # Slice from index 1 to 3\n"
      ],
      "metadata": {
        "colab": {
          "base_uri": "https://localhost:8080/"
        },
        "id": "7TCjK112VKGs",
        "outputId": "bc60f554-d025-41b0-9848-d1a34ced092a"
      },
      "execution_count": 5,
      "outputs": [
        {
          "output_type": "stream",
          "name": "stdout",
          "text": [
            "[20, 30, 40]\n"
          ]
        }
      ]
    },
    {
      "cell_type": "markdown",
      "source": [
        "## 1.3 List Comprehensions\n",
        "\n",
        "List comprehensions provide a concise way to create lists. Instead of using loops to populate a list, comprehensions allow you to generate lists with a single line of code.\n",
        "```python\n",
        "[expression for item in iterable if condition]\n",
        "```\n",
        "\n",
        "* expression: The value to add to the list.\n",
        "* item: An element from the iterable.\n",
        "* condition (optional): A condition that filters the elements"
      ],
      "metadata": {
        "id": "7-8F1KuaVXdq"
      }
    },
    {
      "cell_type": "code",
      "source": [
        "# Traditional loop-based approach\n",
        "squares = []\n",
        "for i in range(1, 6):\n",
        "    squares.append(i ** 2)\n",
        "print(squares)\n"
      ],
      "metadata": {
        "colab": {
          "base_uri": "https://localhost:8080/"
        },
        "id": "dr8IEGnEVV0E",
        "outputId": "0849a184-d7c4-49c2-ffc5-89f501190775"
      },
      "execution_count": 6,
      "outputs": [
        {
          "output_type": "stream",
          "name": "stdout",
          "text": [
            "[1, 4, 9, 16, 25]\n"
          ]
        }
      ]
    },
    {
      "cell_type": "code",
      "source": [
        "# Using list comprehension to create the same list\n",
        "squares = [i ** 2 for i in range(1, 6)]\n",
        "print(squares)\n"
      ],
      "metadata": {
        "colab": {
          "base_uri": "https://localhost:8080/"
        },
        "id": "n_rbR1UNVeXx",
        "outputId": "74e89854-af70-4287-b967-cc28609f9b77"
      },
      "execution_count": 7,
      "outputs": [
        {
          "output_type": "stream",
          "name": "stdout",
          "text": [
            "[1, 4, 9, 16, 25]\n"
          ]
        }
      ]
    },
    {
      "cell_type": "code",
      "source": [
        "# List comprehension with a condition to filter even numbers\n",
        "evens = [i for i in range(1, 11) if i % 2 == 0]\n",
        "print(evens)\n"
      ],
      "metadata": {
        "colab": {
          "base_uri": "https://localhost:8080/"
        },
        "id": "zZSwumIcVg39",
        "outputId": "84c72cde-a6c8-4858-c097-db2c77f38b52"
      },
      "execution_count": 8,
      "outputs": [
        {
          "output_type": "stream",
          "name": "stdout",
          "text": [
            "[2, 4, 6, 8, 10]\n"
          ]
        }
      ]
    },
    {
      "cell_type": "markdown",
      "source": [
        "## Hands-on Practice\n",
        "Exercise 1: Create a list of the cubes of numbers from 1 to 10 using a loop and then using list comprehension."
      ],
      "metadata": {
        "id": "ypgd7irAVksc"
      }
    },
    {
      "cell_type": "code",
      "source": [],
      "metadata": {
        "id": "AftjoM5yViXk"
      },
      "execution_count": null,
      "outputs": []
    },
    {
      "cell_type": "markdown",
      "source": [
        "Exercise 2: Use slicing to reverse a list."
      ],
      "metadata": {
        "id": "48w1hgT2Vl-B"
      }
    },
    {
      "cell_type": "code",
      "source": [],
      "metadata": {
        "id": "dMXjLiUYVNIO"
      },
      "execution_count": null,
      "outputs": []
    },
    {
      "cell_type": "markdown",
      "source": [
        "Exercise 3: Use list comprehension to generate a list of squares of even numbers between 1 and 20."
      ],
      "metadata": {
        "id": "3oOycUQwVoU3"
      }
    },
    {
      "cell_type": "code",
      "source": [],
      "metadata": {
        "id": "1yQa88VFVp00"
      },
      "execution_count": null,
      "outputs": []
    },
    {
      "cell_type": "markdown",
      "source": [
        "# Section 2: Tuples, Sets, and Dictionaries\n",
        "\n",
        "In this section, we will explore three important data structures in Python: **tuples**, **sets**, and **dictionaries**. We will cover how to create and use these structures, along with operations, methods, and comprehensions.\n",
        "\n",
        "---\n",
        "\n",
        "## 2.1 Creating and Using Tuples: Immutable Sequences\n",
        "\n",
        "A **tuple** is similar to a list, but it is **immutable**, meaning its values cannot be changed once created. Tuples are used when you want to store a collection of items that should not be modified.\n",
        "\n",
        "### Example: Creating a Tuple\n",
        "```python\n",
        "# Creating a tuple of integers\n",
        "\n"
      ],
      "metadata": {
        "id": "TULgiQL4Vup3"
      }
    },
    {
      "cell_type": "code",
      "source": [
        "my_tuple = (1, 2, 3, 4, 5)\n",
        "print(my_tuple)"
      ],
      "metadata": {
        "colab": {
          "base_uri": "https://localhost:8080/"
        },
        "id": "DAZL48tpVyRZ",
        "outputId": "cc9fda6d-17e6-45b2-f530-2764655ce630"
      },
      "execution_count": 9,
      "outputs": [
        {
          "output_type": "stream",
          "name": "stdout",
          "text": [
            "(1, 2, 3, 4, 5)\n"
          ]
        }
      ]
    },
    {
      "cell_type": "markdown",
      "source": [
        "Key Characteristics of Tuples:\n",
        "* Immutable: Once a tuple is created, its elements cannot be changed.\n",
        "* Ordered: Tuples preserve the order of elements.\n",
        "* Can store mixed data types: Tuples can hold elements of different data types."
      ],
      "metadata": {
        "id": "mT7Vf0YrV16R"
      }
    },
    {
      "cell_type": "code",
      "source": [
        "# Accessing elements in a tuple\n",
        "print(my_tuple[0])  # First element\n",
        "print(my_tuple[-1]) # Last element\n"
      ],
      "metadata": {
        "colab": {
          "base_uri": "https://localhost:8080/"
        },
        "id": "NBGDrVOaV0kH",
        "outputId": "3f31bf41-d268-4a9c-f595-620756fd6fd9"
      },
      "execution_count": 10,
      "outputs": [
        {
          "output_type": "stream",
          "name": "stdout",
          "text": [
            "1\n",
            "5\n"
          ]
        }
      ]
    },
    {
      "cell_type": "markdown",
      "source": [
        "## 2.2 Set Operations: Union, Intersection, Difference\n",
        "\n",
        "A set is an unordered collection of unique elements. Sets are used to perform mathematical set operations such as union, intersection, and difference."
      ],
      "metadata": {
        "id": "GKR3laFnV69N"
      }
    },
    {
      "cell_type": "code",
      "source": [
        "# Creating a set\n",
        "my_set = {1, 2, 3, 4, 5}\n",
        "print(my_set)\n"
      ],
      "metadata": {
        "colab": {
          "base_uri": "https://localhost:8080/"
        },
        "id": "AKbiUuv8V5X-",
        "outputId": "64265cfa-b4ec-4372-a2ac-59bd276df4cb"
      },
      "execution_count": 11,
      "outputs": [
        {
          "output_type": "stream",
          "name": "stdout",
          "text": [
            "{1, 2, 3, 4, 5}\n"
          ]
        }
      ]
    },
    {
      "cell_type": "markdown",
      "source": [
        "### Key Set Operations:\n",
        "* Union: Combines two sets to include all elements from both sets.\n",
        "* Intersection: Returns only the elements present in both sets.\n",
        "* Difference: Returns the elements present in the first set but not in the second set."
      ],
      "metadata": {
        "id": "_QMa968cV-JC"
      }
    },
    {
      "cell_type": "code",
      "source": [
        "set1 = {1, 2, 3, 4}\n",
        "set2 = {3, 4, 5, 6}\n",
        "\n",
        "# Union\n",
        "print(set1.union(set2))  # Output: {1, 2, 3, 4, 5, 6}\n",
        "\n",
        "# Intersection\n",
        "print(set1.intersection(set2))  # Output: {3, 4}\n",
        "\n",
        "# Difference\n",
        "print(set1.difference(set2))  # Output: {1, 2}\n"
      ],
      "metadata": {
        "colab": {
          "base_uri": "https://localhost:8080/"
        },
        "id": "DDRquRovV8la",
        "outputId": "6d16f330-ac27-4149-f578-b19b1cf03e89"
      },
      "execution_count": 12,
      "outputs": [
        {
          "output_type": "stream",
          "name": "stdout",
          "text": [
            "{1, 2, 3, 4, 5, 6}\n",
            "{3, 4}\n",
            "{1, 2}\n"
          ]
        }
      ]
    },
    {
      "cell_type": "markdown",
      "source": [
        "## 2.3 Dictionaries: Key-Value Pairs and Dictionary Methods\n",
        "\n",
        "A dictionary is an unordered collection of key-value pairs, where each key is unique. Dictionaries are often used to store data in a structured format where each value is associated with a specific key."
      ],
      "metadata": {
        "id": "_AenXKxtWBA_"
      }
    },
    {
      "cell_type": "code",
      "source": [
        "# Creating a dictionary\n",
        "my_dict = {'name': 'Alice', 'age': 25, 'city': 'New York'}\n",
        "print(my_dict)\n"
      ],
      "metadata": {
        "colab": {
          "base_uri": "https://localhost:8080/"
        },
        "id": "yuJK4zUqWAP4",
        "outputId": "5b6807f6-fb87-41bf-b164-d023d1a6bf22"
      },
      "execution_count": 13,
      "outputs": [
        {
          "output_type": "stream",
          "name": "stdout",
          "text": [
            "{'name': 'Alice', 'age': 25, 'city': 'New York'}\n"
          ]
        }
      ]
    },
    {
      "cell_type": "markdown",
      "source": [
        "### Accessing Dictionary Values:\n",
        "\n",
        "You can access dictionary values by referring to their corresponding keys."
      ],
      "metadata": {
        "id": "PizC3BbzWGd-"
      }
    },
    {
      "cell_type": "code",
      "source": [
        "print(my_dict['name'])  # Output: Alice\n",
        "print(my_dict.get('age'))  # Output: 25\n"
      ],
      "metadata": {
        "colab": {
          "base_uri": "https://localhost:8080/"
        },
        "id": "uC7dmtJhWDuh",
        "outputId": "2ed2af10-5a37-47e6-9b74-1ac4e431e68c"
      },
      "execution_count": 14,
      "outputs": [
        {
          "output_type": "stream",
          "name": "stdout",
          "text": [
            "Alice\n",
            "25\n"
          ]
        }
      ]
    },
    {
      "cell_type": "markdown",
      "source": [
        "Common Dictionary Methods:\n",
        "\n",
        "* get(): Returns the value for a specified key.\n",
        "* keys(): Returns a view object of all keys in the dictionary.\n",
        "* values(): Returns a view object of all values in the dictionary.\n",
        "* items(): Returns a view object of key-value pairs.\n",
        "* update(): Updates the dictionary with the specified key-value pairs."
      ],
      "metadata": {
        "id": "60rTsutdWJcr"
      }
    },
    {
      "cell_type": "code",
      "source": [
        "# Adding a new key-value pair\n",
        "my_dict['email'] = 'alice@example.com'\n",
        "\n",
        "# Updating an existing key\n",
        "my_dict.update({'age': 26})\n",
        "\n",
        "# Removing a key-value pair\n",
        "del my_dict['city']\n",
        "\n",
        "# Print updated dictionary\n",
        "print(my_dict)\n"
      ],
      "metadata": {
        "colab": {
          "base_uri": "https://localhost:8080/"
        },
        "id": "SyH5jnuaWH0q",
        "outputId": "480b8521-c23b-4a8f-f3a8-d3e2ac39c353"
      },
      "execution_count": 15,
      "outputs": [
        {
          "output_type": "stream",
          "name": "stdout",
          "text": [
            "{'name': 'Alice', 'age': 26, 'email': 'alice@example.com'}\n"
          ]
        }
      ]
    },
    {
      "cell_type": "markdown",
      "source": [
        "## 2.4 Iterating Through Dictionaries and Using Dictionary Comprehensions\n",
        "Iterating Through a Dictionary:\n",
        "\n",
        "You can iterate over dictionaries to access both keys and values."
      ],
      "metadata": {
        "id": "ycHuWtQYWOPc"
      }
    },
    {
      "cell_type": "code",
      "source": [
        "for key, value in my_dict.items():\n",
        "    print(f\"Key: {key}, Value: {value}\")\n"
      ],
      "metadata": {
        "colab": {
          "base_uri": "https://localhost:8080/"
        },
        "id": "EkmaVlg2WLLX",
        "outputId": "258a325f-df80-46d1-d1c0-fd8fa7882c54"
      },
      "execution_count": 16,
      "outputs": [
        {
          "output_type": "stream",
          "name": "stdout",
          "text": [
            "Key: name, Value: Alice\n",
            "Key: age, Value: 26\n",
            "Key: email, Value: alice@example.com\n"
          ]
        }
      ]
    },
    {
      "cell_type": "markdown",
      "source": [
        "### Dictionary Comprehensions:\n",
        "\n",
        "Like list comprehensions, dictionary comprehensions provide a concise way to create dictionaries."
      ],
      "metadata": {
        "id": "UqKHSJvBWRZe"
      }
    },
    {
      "cell_type": "code",
      "source": [
        "squares = {x: x ** 2 for x in range(1, 6)}\n",
        "print(squares)\n"
      ],
      "metadata": {
        "colab": {
          "base_uri": "https://localhost:8080/"
        },
        "id": "lcRdgU94WPdW",
        "outputId": "77d597d7-e5fd-4c91-aa0d-965c411dfb41"
      },
      "execution_count": 17,
      "outputs": [
        {
          "output_type": "stream",
          "name": "stdout",
          "text": [
            "{1: 1, 2: 4, 3: 9, 4: 16, 5: 25}\n"
          ]
        }
      ]
    },
    {
      "cell_type": "markdown",
      "source": [
        "## Hands-on Practice\n",
        "Exercise 1: Create a tuple of your favorite fruits and access the second fruit in the tuple."
      ],
      "metadata": {
        "id": "onW1lDjlWULz"
      }
    },
    {
      "cell_type": "code",
      "source": [],
      "metadata": {
        "id": "82wySnNPWSxJ"
      },
      "execution_count": null,
      "outputs": []
    },
    {
      "cell_type": "markdown",
      "source": [
        "Exercise 2: Perform set operations (union, intersection, and difference) on two sets of your favorite colors."
      ],
      "metadata": {
        "id": "y4YTDy0qWU9Q"
      }
    },
    {
      "cell_type": "code",
      "source": [],
      "metadata": {
        "id": "O8MsdCHLWWrp"
      },
      "execution_count": null,
      "outputs": []
    },
    {
      "cell_type": "markdown",
      "source": [
        "Exercise 3: Create a dictionary of your favorite movies with the year they were released, and iterate through the dictionary to print the movie names and their release years."
      ],
      "metadata": {
        "id": "NpR12NL2WXZm"
      }
    },
    {
      "cell_type": "code",
      "source": [],
      "metadata": {
        "id": "veGPIhgFWY9p"
      },
      "execution_count": null,
      "outputs": []
    },
    {
      "cell_type": "markdown",
      "source": [
        "# Section 3: Iterators and Generators\n",
        "\n",
        "In this section, we will explore **iterators** and **generators** in Python. These concepts are essential for handling large datasets and creating efficient, memory-friendly code.\n",
        "\n",
        "---\n",
        "\n",
        "## 3.1 Introduction to Iterators and the `iter()` Function\n",
        "\n",
        "An **iterator** is an object that allows you to traverse through a collection (like lists, tuples, or dictionaries) without needing to know the underlying structure. In Python, any object that implements the `__iter__()` and `__next__()` methods can be considered an iterator.\n",
        "\n",
        "### Creating an Iterator\n",
        "You can create an iterator from any iterable using the `iter()` function.\n",
        "\n",
        "#### Example: Using `iter()`\n"
      ],
      "metadata": {
        "id": "rfxrix9lWpeO"
      }
    },
    {
      "cell_type": "code",
      "source": [
        "# Creating a list\n",
        "my_list = [1, 2, 3, 4, 5]\n",
        "\n",
        "# Creating an iterator from the list\n",
        "my_iterator = iter(my_list)\n",
        "\n",
        "# Accessing elements using the next() function\n",
        "print(next(my_iterator))  # Output: 1\n",
        "print(next(my_iterator))  # Output: 2\n"
      ],
      "metadata": {
        "colab": {
          "base_uri": "https://localhost:8080/"
        },
        "id": "hXM3khQQWtCn",
        "outputId": "cd154c93-91d6-4267-ab8c-88adc1e904be"
      },
      "execution_count": 18,
      "outputs": [
        {
          "output_type": "stream",
          "name": "stdout",
          "text": [
            "1\n",
            "2\n"
          ]
        }
      ]
    },
    {
      "cell_type": "markdown",
      "source": [
        "### Using for Loop with Iterators\n",
        "\n",
        "You can also use a for loop to iterate through an iterator automatically:"
      ],
      "metadata": {
        "id": "yLXIVjZHWrE3"
      }
    },
    {
      "cell_type": "code",
      "source": [
        "for item in my_list:\n",
        "    print(item)\n"
      ],
      "metadata": {
        "colab": {
          "base_uri": "https://localhost:8080/"
        },
        "id": "Q-CoXOG-WwRf",
        "outputId": "fb2e78fa-f1dd-4396-c52a-3a10194da04b"
      },
      "execution_count": 19,
      "outputs": [
        {
          "output_type": "stream",
          "name": "stdout",
          "text": [
            "1\n",
            "2\n",
            "3\n",
            "4\n",
            "5\n"
          ]
        }
      ]
    },
    {
      "cell_type": "markdown",
      "source": [
        "## 3.2 Creating Generators Using Functions and yield\n",
        "\n",
        "A generator is a special type of iterator that is defined using a function. Instead of returning a single value, a generator uses the yield keyword to produce a series of values, one at a time, each time it is called."
      ],
      "metadata": {
        "id": "132xOLvsWzkk"
      }
    },
    {
      "cell_type": "code",
      "source": [
        "def countdown(n):\n",
        "    while n > 0:\n",
        "        yield n\n",
        "        n -= 1\n",
        "\n",
        "# Using the generator\n",
        "for number in countdown(5):\n",
        "    print(number)\n"
      ],
      "metadata": {
        "colab": {
          "base_uri": "https://localhost:8080/"
        },
        "id": "0BZFQ3QtWxXJ",
        "outputId": "247f78b9-2fe5-4e64-889e-08a24e19c7af"
      },
      "execution_count": 20,
      "outputs": [
        {
          "output_type": "stream",
          "name": "stdout",
          "text": [
            "5\n",
            "4\n",
            "3\n",
            "2\n",
            "1\n"
          ]
        }
      ]
    },
    {
      "cell_type": "markdown",
      "source": [
        "## 3.3 Generator Expressions\n",
        "\n",
        "Generator expressions provide a concise way to create generators without defining a separate function. They are similar to list comprehensions but use parentheses instead of square brackets."
      ],
      "metadata": {
        "id": "4r0EljGFW7xf"
      }
    },
    {
      "cell_type": "code",
      "source": [
        "# Generator expression for squares of numbers\n",
        "squares = (x ** 2 for x in range(1, 6))\n",
        "\n",
        "# Using the generator\n",
        "for square in squares:\n",
        "    print(square)\n"
      ],
      "metadata": {
        "colab": {
          "base_uri": "https://localhost:8080/"
        },
        "id": "uswnkCtkW1Nz",
        "outputId": "0208c731-25e6-4f58-b5dd-124d2e5afc70"
      },
      "execution_count": 21,
      "outputs": [
        {
          "output_type": "stream",
          "name": "stdout",
          "text": [
            "1\n",
            "4\n",
            "9\n",
            "16\n",
            "25\n"
          ]
        }
      ]
    },
    {
      "cell_type": "markdown",
      "source": [
        "## 3.4 Use Cases for Iterators and Generators\n",
        "\n",
        "Iterators and generators are particularly useful for handling large datasets or streams of data where loading everything into memory would be inefficient.\n",
        "Common Use Cases:\n",
        "\n",
        "* Reading large files: You can read a file line by line using a generator, which consumes less memory.\n",
        "* Infinite sequences: Generators can create infinite sequences (like counting numbers) without ever exhausting memory.\n",
        "* Pipelining: Generators can be used in pipelines to process data in a lazy manner, improving performance."
      ],
      "metadata": {
        "id": "pZos9cMxW-fU"
      }
    },
    {
      "cell_type": "code",
      "source": [
        "def read_large_file(file_name):\n",
        "    with open(file_name) as file:\n",
        "        for line in file:\n",
        "            yield line.strip()\n",
        "\n",
        "# Usage\n",
        "for line in read_large_file('large_file.txt'):\n",
        "    print(line)\n"
      ],
      "metadata": {
        "colab": {
          "base_uri": "https://localhost:8080/",
          "height": 335
        },
        "id": "kevIkvOQW81J",
        "outputId": "bc7262a2-6a77-435b-eb33-498167dfdb53"
      },
      "execution_count": 22,
      "outputs": [
        {
          "output_type": "error",
          "ename": "FileNotFoundError",
          "evalue": "[Errno 2] No such file or directory: 'large_file.txt'",
          "traceback": [
            "\u001b[0;31m---------------------------------------------------------------------------\u001b[0m",
            "\u001b[0;31mFileNotFoundError\u001b[0m                         Traceback (most recent call last)",
            "\u001b[0;32m<ipython-input-22-0877fb044e33>\u001b[0m in \u001b[0;36m<cell line: 7>\u001b[0;34m()\u001b[0m\n\u001b[1;32m      5\u001b[0m \u001b[0;34m\u001b[0m\u001b[0m\n\u001b[1;32m      6\u001b[0m \u001b[0;31m# Usage\u001b[0m\u001b[0;34m\u001b[0m\u001b[0;34m\u001b[0m\u001b[0m\n\u001b[0;32m----> 7\u001b[0;31m \u001b[0;32mfor\u001b[0m \u001b[0mline\u001b[0m \u001b[0;32min\u001b[0m \u001b[0mread_large_file\u001b[0m\u001b[0;34m(\u001b[0m\u001b[0;34m'large_file.txt'\u001b[0m\u001b[0;34m)\u001b[0m\u001b[0;34m:\u001b[0m\u001b[0;34m\u001b[0m\u001b[0;34m\u001b[0m\u001b[0m\n\u001b[0m\u001b[1;32m      8\u001b[0m     \u001b[0mprint\u001b[0m\u001b[0;34m(\u001b[0m\u001b[0mline\u001b[0m\u001b[0;34m)\u001b[0m\u001b[0;34m\u001b[0m\u001b[0;34m\u001b[0m\u001b[0m\n",
            "\u001b[0;32m<ipython-input-22-0877fb044e33>\u001b[0m in \u001b[0;36mread_large_file\u001b[0;34m(file_name)\u001b[0m\n\u001b[1;32m      1\u001b[0m \u001b[0;32mdef\u001b[0m \u001b[0mread_large_file\u001b[0m\u001b[0;34m(\u001b[0m\u001b[0mfile_name\u001b[0m\u001b[0;34m)\u001b[0m\u001b[0;34m:\u001b[0m\u001b[0;34m\u001b[0m\u001b[0;34m\u001b[0m\u001b[0m\n\u001b[0;32m----> 2\u001b[0;31m     \u001b[0;32mwith\u001b[0m \u001b[0mopen\u001b[0m\u001b[0;34m(\u001b[0m\u001b[0mfile_name\u001b[0m\u001b[0;34m)\u001b[0m \u001b[0;32mas\u001b[0m \u001b[0mfile\u001b[0m\u001b[0;34m:\u001b[0m\u001b[0;34m\u001b[0m\u001b[0;34m\u001b[0m\u001b[0m\n\u001b[0m\u001b[1;32m      3\u001b[0m         \u001b[0;32mfor\u001b[0m \u001b[0mline\u001b[0m \u001b[0;32min\u001b[0m \u001b[0mfile\u001b[0m\u001b[0;34m:\u001b[0m\u001b[0;34m\u001b[0m\u001b[0;34m\u001b[0m\u001b[0m\n\u001b[1;32m      4\u001b[0m             \u001b[0;32myield\u001b[0m \u001b[0mline\u001b[0m\u001b[0;34m.\u001b[0m\u001b[0mstrip\u001b[0m\u001b[0;34m(\u001b[0m\u001b[0;34m)\u001b[0m\u001b[0;34m\u001b[0m\u001b[0;34m\u001b[0m\u001b[0m\n\u001b[1;32m      5\u001b[0m \u001b[0;34m\u001b[0m\u001b[0m\n",
            "\u001b[0;31mFileNotFoundError\u001b[0m: [Errno 2] No such file or directory: 'large_file.txt'"
          ]
        }
      ]
    },
    {
      "cell_type": "markdown",
      "source": [
        "## Hands-on Practice\n",
        "Exercise 1: Create an iterator that generates the first 10 Fibonacci numbers."
      ],
      "metadata": {
        "id": "CXS2YVbFXBbR"
      }
    },
    {
      "cell_type": "code",
      "source": [],
      "metadata": {
        "id": "42eXHAv-XAD-"
      },
      "execution_count": null,
      "outputs": []
    },
    {
      "cell_type": "markdown",
      "source": [
        "Exercise 2: Write a generator function that yields prime numbers up to a given limit.\n",
        "\n"
      ],
      "metadata": {
        "id": "pXXKt3mrXDjW"
      }
    },
    {
      "cell_type": "code",
      "source": [],
      "metadata": {
        "id": "Y0aDoFmYXE4U"
      },
      "execution_count": null,
      "outputs": []
    },
    {
      "cell_type": "markdown",
      "source": [
        "Exercise 3: Use a generator expression to create a generator that yields the cubes of numbers from 1 to 10.\n",
        "\n"
      ],
      "metadata": {
        "id": "16dQ_u_JXGHe"
      }
    },
    {
      "cell_type": "code",
      "source": [],
      "metadata": {
        "id": "83qw4fYUXGV0"
      },
      "execution_count": null,
      "outputs": []
    },
    {
      "cell_type": "markdown",
      "source": [
        "# Section 4: File Handling\n",
        "\n",
        "In this section, we will explore how to handle files in Python. We will cover opening, reading, writing, and using context managers for efficient file operations.\n",
        "\n",
        "---\n",
        "\n",
        "## 4.1 Opening and Reading Files: `open()`, `read()`, `readline()`\n",
        "\n",
        "To work with files in Python, you first need to **open** the file using the `open()` function. This function returns a file object that allows you to read from or write to the file.\n",
        "\n",
        "### Example: Opening a File"
      ],
      "metadata": {
        "id": "oGpjt_f2XNje"
      }
    },
    {
      "cell_type": "code",
      "source": [
        "# Opening a file in read mode\n",
        "file = open('example.txt', 'r')\n"
      ],
      "metadata": {
        "colab": {
          "base_uri": "https://localhost:8080/",
          "height": 179
        },
        "id": "qfTr1du4XPLo",
        "outputId": "0dfde54f-c2e0-4e37-a453-6e129105a952"
      },
      "execution_count": 23,
      "outputs": [
        {
          "output_type": "error",
          "ename": "FileNotFoundError",
          "evalue": "[Errno 2] No such file or directory: 'example.txt'",
          "traceback": [
            "\u001b[0;31m---------------------------------------------------------------------------\u001b[0m",
            "\u001b[0;31mFileNotFoundError\u001b[0m                         Traceback (most recent call last)",
            "\u001b[0;32m<ipython-input-23-03e812ecfbdd>\u001b[0m in \u001b[0;36m<cell line: 2>\u001b[0;34m()\u001b[0m\n\u001b[1;32m      1\u001b[0m \u001b[0;31m# Opening a file in read mode\u001b[0m\u001b[0;34m\u001b[0m\u001b[0;34m\u001b[0m\u001b[0m\n\u001b[0;32m----> 2\u001b[0;31m \u001b[0mfile\u001b[0m \u001b[0;34m=\u001b[0m \u001b[0mopen\u001b[0m\u001b[0;34m(\u001b[0m\u001b[0;34m'example.txt'\u001b[0m\u001b[0;34m,\u001b[0m \u001b[0;34m'r'\u001b[0m\u001b[0;34m)\u001b[0m\u001b[0;34m\u001b[0m\u001b[0;34m\u001b[0m\u001b[0m\n\u001b[0m",
            "\u001b[0;31mFileNotFoundError\u001b[0m: [Errno 2] No such file or directory: 'example.txt'"
          ]
        }
      ]
    },
    {
      "cell_type": "markdown",
      "source": [
        "### Reading File Content\n",
        "\n",
        "Once the file is opened, you can read its contents using different methods:\n",
        "Using read()\n",
        "\n",
        "The read() method reads the entire file content at once."
      ],
      "metadata": {
        "id": "fZrfNkj_XRCH"
      }
    },
    {
      "cell_type": "code",
      "source": [
        "content = file.read()\n",
        "print(content)\n"
      ],
      "metadata": {
        "colab": {
          "base_uri": "https://localhost:8080/",
          "height": 179
        },
        "id": "Y8LY2jlfXPjA",
        "outputId": "b1f973a4-6376-4e42-c72b-e1b87fc7fb1b"
      },
      "execution_count": 24,
      "outputs": [
        {
          "output_type": "error",
          "ename": "NameError",
          "evalue": "name 'file' is not defined",
          "traceback": [
            "\u001b[0;31m---------------------------------------------------------------------------\u001b[0m",
            "\u001b[0;31mNameError\u001b[0m                                 Traceback (most recent call last)",
            "\u001b[0;32m<ipython-input-24-89dec3ad4628>\u001b[0m in \u001b[0;36m<cell line: 1>\u001b[0;34m()\u001b[0m\n\u001b[0;32m----> 1\u001b[0;31m \u001b[0mcontent\u001b[0m \u001b[0;34m=\u001b[0m \u001b[0mfile\u001b[0m\u001b[0;34m.\u001b[0m\u001b[0mread\u001b[0m\u001b[0;34m(\u001b[0m\u001b[0;34m)\u001b[0m\u001b[0;34m\u001b[0m\u001b[0;34m\u001b[0m\u001b[0m\n\u001b[0m\u001b[1;32m      2\u001b[0m \u001b[0mprint\u001b[0m\u001b[0;34m(\u001b[0m\u001b[0mcontent\u001b[0m\u001b[0;34m)\u001b[0m\u001b[0;34m\u001b[0m\u001b[0;34m\u001b[0m\u001b[0m\n",
            "\u001b[0;31mNameError\u001b[0m: name 'file' is not defined"
          ]
        }
      ]
    },
    {
      "cell_type": "markdown",
      "source": [
        "### Using readline()\n",
        "\n",
        "The readline() method reads one line at a time."
      ],
      "metadata": {
        "id": "e0ba57foXTvX"
      }
    },
    {
      "cell_type": "code",
      "source": [
        "line = file.readline()\n",
        "print(line)  # Prints the first line\n"
      ],
      "metadata": {
        "colab": {
          "base_uri": "https://localhost:8080/",
          "height": 179
        },
        "id": "uMaifeHtXSQg",
        "outputId": "89bd7507-b83c-4229-d966-b507350226fc"
      },
      "execution_count": 25,
      "outputs": [
        {
          "output_type": "error",
          "ename": "NameError",
          "evalue": "name 'file' is not defined",
          "traceback": [
            "\u001b[0;31m---------------------------------------------------------------------------\u001b[0m",
            "\u001b[0;31mNameError\u001b[0m                                 Traceback (most recent call last)",
            "\u001b[0;32m<ipython-input-25-631703c78f47>\u001b[0m in \u001b[0;36m<cell line: 1>\u001b[0;34m()\u001b[0m\n\u001b[0;32m----> 1\u001b[0;31m \u001b[0mline\u001b[0m \u001b[0;34m=\u001b[0m \u001b[0mfile\u001b[0m\u001b[0;34m.\u001b[0m\u001b[0mreadline\u001b[0m\u001b[0;34m(\u001b[0m\u001b[0;34m)\u001b[0m\u001b[0;34m\u001b[0m\u001b[0;34m\u001b[0m\u001b[0m\n\u001b[0m\u001b[1;32m      2\u001b[0m \u001b[0mprint\u001b[0m\u001b[0;34m(\u001b[0m\u001b[0mline\u001b[0m\u001b[0;34m)\u001b[0m  \u001b[0;31m# Prints the first line\u001b[0m\u001b[0;34m\u001b[0m\u001b[0;34m\u001b[0m\u001b[0m\n",
            "\u001b[0;31mNameError\u001b[0m: name 'file' is not defined"
          ]
        }
      ]
    },
    {
      "cell_type": "markdown",
      "source": [
        "### Using readlines()\n",
        "\n",
        "The readlines() method reads all lines and returns a list of lines."
      ],
      "metadata": {
        "id": "mjnS1f32XgOE"
      }
    },
    {
      "cell_type": "code",
      "source": [
        "lines = file.readlines()\n",
        "print(lines)  # Prints a list of all lines\n"
      ],
      "metadata": {
        "colab": {
          "base_uri": "https://localhost:8080/",
          "height": 179
        },
        "id": "5D4v_NFcXVG_",
        "outputId": "98c72688-bcee-4e33-9404-f15ab063c7f7"
      },
      "execution_count": 26,
      "outputs": [
        {
          "output_type": "error",
          "ename": "NameError",
          "evalue": "name 'file' is not defined",
          "traceback": [
            "\u001b[0;31m---------------------------------------------------------------------------\u001b[0m",
            "\u001b[0;31mNameError\u001b[0m                                 Traceback (most recent call last)",
            "\u001b[0;32m<ipython-input-26-38b27b6400cb>\u001b[0m in \u001b[0;36m<cell line: 1>\u001b[0;34m()\u001b[0m\n\u001b[0;32m----> 1\u001b[0;31m \u001b[0mlines\u001b[0m \u001b[0;34m=\u001b[0m \u001b[0mfile\u001b[0m\u001b[0;34m.\u001b[0m\u001b[0mreadlines\u001b[0m\u001b[0;34m(\u001b[0m\u001b[0;34m)\u001b[0m\u001b[0;34m\u001b[0m\u001b[0;34m\u001b[0m\u001b[0m\n\u001b[0m\u001b[1;32m      2\u001b[0m \u001b[0mprint\u001b[0m\u001b[0;34m(\u001b[0m\u001b[0mlines\u001b[0m\u001b[0;34m)\u001b[0m  \u001b[0;31m# Prints a list of all lines\u001b[0m\u001b[0;34m\u001b[0m\u001b[0;34m\u001b[0m\u001b[0m\n",
            "\u001b[0;31mNameError\u001b[0m: name 'file' is not defined"
          ]
        }
      ]
    },
    {
      "cell_type": "markdown",
      "source": [
        "### Important Note:\n",
        "\n",
        "Don’t forget to close the file after reading to free up system resources:"
      ],
      "metadata": {
        "id": "-mdJi9ZDXiU_"
      }
    },
    {
      "cell_type": "code",
      "source": [
        "file.close()\n"
      ],
      "metadata": {
        "colab": {
          "base_uri": "https://localhost:8080/",
          "height": 161
        },
        "id": "mamCqTOfXhJm",
        "outputId": "b1c75b75-2a96-486c-c169-2e6b05a7e51b"
      },
      "execution_count": 27,
      "outputs": [
        {
          "output_type": "error",
          "ename": "NameError",
          "evalue": "name 'file' is not defined",
          "traceback": [
            "\u001b[0;31m---------------------------------------------------------------------------\u001b[0m",
            "\u001b[0;31mNameError\u001b[0m                                 Traceback (most recent call last)",
            "\u001b[0;32m<ipython-input-27-2f72176549a0>\u001b[0m in \u001b[0;36m<cell line: 1>\u001b[0;34m()\u001b[0m\n\u001b[0;32m----> 1\u001b[0;31m \u001b[0mfile\u001b[0m\u001b[0;34m.\u001b[0m\u001b[0mclose\u001b[0m\u001b[0;34m(\u001b[0m\u001b[0;34m)\u001b[0m\u001b[0;34m\u001b[0m\u001b[0;34m\u001b[0m\u001b[0m\n\u001b[0m",
            "\u001b[0;31mNameError\u001b[0m: name 'file' is not defined"
          ]
        }
      ]
    },
    {
      "cell_type": "markdown",
      "source": [
        "## 4.2 Writing to Files: write(), writelines()\n",
        "\n",
        "You can also write to files using the write() and writelines() methods. To write to a file, you must open it in write (w) or append (a) mode."
      ],
      "metadata": {
        "id": "r0YPJhO7Xk2-"
      }
    },
    {
      "cell_type": "code",
      "source": [
        "# Opening a file in write mode\n",
        "file = open('output.txt', 'w')\n",
        "\n",
        "# Writing a single line\n",
        "file.write('Hello, world!\\n')\n",
        "\n",
        "# Writing multiple lines\n",
        "lines = ['Line 1\\n', 'Line 2\\n', 'Line 3\\n']\n",
        "file.writelines(lines)\n",
        "\n",
        "# Closing the file\n",
        "file.close()\n"
      ],
      "metadata": {
        "id": "bzSx5sMmXjZe"
      },
      "execution_count": 28,
      "outputs": []
    },
    {
      "cell_type": "markdown",
      "source": [
        "## 4.3 Using Context Managers (with Statement) for File Operations\n",
        "\n",
        "Using context managers with the with statement is the recommended way to handle files in Python. It ensures that the file is properly closed after its suite finishes, even if an error occurs."
      ],
      "metadata": {
        "id": "vdquSHQjXn2c"
      }
    },
    {
      "cell_type": "code",
      "source": [
        "with open('example.txt', 'r') as file:\n",
        "    content = file.read()\n",
        "    print(content)  # No need to explicitly close the file\n"
      ],
      "metadata": {
        "colab": {
          "base_uri": "https://localhost:8080/",
          "height": 196
        },
        "id": "MWw7Bgu0Xmav",
        "outputId": "ddc60162-5d90-4daa-86e8-346f97c239cb"
      },
      "execution_count": 29,
      "outputs": [
        {
          "output_type": "error",
          "ename": "FileNotFoundError",
          "evalue": "[Errno 2] No such file or directory: 'example.txt'",
          "traceback": [
            "\u001b[0;31m---------------------------------------------------------------------------\u001b[0m",
            "\u001b[0;31mFileNotFoundError\u001b[0m                         Traceback (most recent call last)",
            "\u001b[0;32m<ipython-input-29-42774c56dbaa>\u001b[0m in \u001b[0;36m<cell line: 1>\u001b[0;34m()\u001b[0m\n\u001b[0;32m----> 1\u001b[0;31m \u001b[0;32mwith\u001b[0m \u001b[0mopen\u001b[0m\u001b[0;34m(\u001b[0m\u001b[0;34m'example.txt'\u001b[0m\u001b[0;34m,\u001b[0m \u001b[0;34m'r'\u001b[0m\u001b[0;34m)\u001b[0m \u001b[0;32mas\u001b[0m \u001b[0mfile\u001b[0m\u001b[0;34m:\u001b[0m\u001b[0;34m\u001b[0m\u001b[0;34m\u001b[0m\u001b[0m\n\u001b[0m\u001b[1;32m      2\u001b[0m     \u001b[0mcontent\u001b[0m \u001b[0;34m=\u001b[0m \u001b[0mfile\u001b[0m\u001b[0;34m.\u001b[0m\u001b[0mread\u001b[0m\u001b[0;34m(\u001b[0m\u001b[0;34m)\u001b[0m\u001b[0;34m\u001b[0m\u001b[0;34m\u001b[0m\u001b[0m\n\u001b[1;32m      3\u001b[0m     \u001b[0mprint\u001b[0m\u001b[0;34m(\u001b[0m\u001b[0mcontent\u001b[0m\u001b[0;34m)\u001b[0m  \u001b[0;31m# No need to explicitly close the file\u001b[0m\u001b[0;34m\u001b[0m\u001b[0;34m\u001b[0m\u001b[0m\n",
            "\u001b[0;31mFileNotFoundError\u001b[0m: [Errno 2] No such file or directory: 'example.txt'"
          ]
        }
      ]
    },
    {
      "cell_type": "markdown",
      "source": [
        "## 4.4 File Modes: r, w, a, r+\n",
        "\n",
        "When opening files, you can specify different modes that determine how the file will be accessed:\n",
        "\n",
        "* r: Read (default mode). Opens a file for reading; raises an error if the file does not exist.\n",
        "* w: Write. Opens a file for writing, creating the file if it does not exist or truncating it if it does.\n",
        "* a: Append. Opens a file for writing; creates the file if it does not exist. New data is written at the end of the file.\n",
        "* r+: Read and Write. Opens a file for both reading and writing; the file must exist."
      ],
      "metadata": {
        "id": "hgdXsBo-Xpxm"
      }
    },
    {
      "cell_type": "code",
      "source": [
        "# Writing to a file\n",
        "with open('write_example.txt', 'w') as file:\n",
        "    file.write('This is a test.\\n')\n",
        "\n",
        "# Appending to a file\n",
        "with open('write_example.txt', 'a') as file:\n",
        "    file.write('This line is added.\\n')\n",
        "\n",
        "# Reading from a file\n",
        "with open('write_example.txt', 'r') as file:\n",
        "    print(file.read())\n",
        "\n"
      ],
      "metadata": {
        "colab": {
          "base_uri": "https://localhost:8080/"
        },
        "id": "mNyzVX4ZXpF3",
        "outputId": "135e1105-bc2c-45ca-d7d7-ab038f0338dd"
      },
      "execution_count": 30,
      "outputs": [
        {
          "output_type": "stream",
          "name": "stdout",
          "text": [
            "This is a test.\n",
            "This line is added.\n",
            "\n"
          ]
        }
      ]
    },
    {
      "cell_type": "markdown",
      "source": [
        "## Hands-on Practice\n",
        "Exercise 1: Write a program to read a file and print its content line by line."
      ],
      "metadata": {
        "id": "rCEvVTFPXupv"
      }
    },
    {
      "cell_type": "code",
      "source": [],
      "metadata": {
        "id": "j5i9KpfnXtSv"
      },
      "execution_count": null,
      "outputs": []
    },
    {
      "cell_type": "markdown",
      "source": [
        "Exercise 2: Create a new file and write your favorite quotes into it."
      ],
      "metadata": {
        "id": "tZRnsTPRXvcX"
      }
    },
    {
      "cell_type": "code",
      "source": [],
      "metadata": {
        "id": "gk6blRLoXwy9"
      },
      "execution_count": null,
      "outputs": []
    },
    {
      "cell_type": "markdown",
      "source": [
        "Exercise 3: Append a new quote to the existing file and read the entire file content."
      ],
      "metadata": {
        "id": "dCXV0QqZXxL2"
      }
    },
    {
      "cell_type": "code",
      "source": [],
      "metadata": {
        "id": "EC3wD7LYXys8"
      },
      "execution_count": null,
      "outputs": []
    },
    {
      "cell_type": "markdown",
      "source": [
        "# Section 5: Exception Handling\n",
        "\n",
        "In this section, we will explore how to handle errors and exceptions in Python. Exception handling is crucial for writing robust programs that can gracefully manage unexpected situations.\n",
        "\n",
        "---\n",
        "\n",
        "## 5.1 Introduction to Errors and Exceptions\n",
        "\n",
        "In programming, **errors** occur when the code encounters a problem that prevents it from executing correctly. These problems can be syntax errors, logical errors, or runtime errors.\n",
        "\n",
        "### What is an Exception?\n",
        "An **exception** is a specific type of error that can be caught and handled programmatically. When an exception occurs, Python raises it, and you can use exception handling mechanisms to deal with it.\n",
        "\n",
        "---\n",
        "\n",
        "## 5.2 Using `try`, `except`, `else`, and `finally`\n",
        "\n",
        "To handle exceptions in Python, you can use a `try` block along with `except`, `else`, and `finally` clauses.\n",
        "\n",
        "### Example: Basic Exception Handling\n",
        "```python\n"
      ],
      "metadata": {
        "id": "rJUZYUP9X4v9"
      }
    },
    {
      "cell_type": "code",
      "source": [
        "try:\n",
        "    # Code that may raise an exception\n",
        "    result = 10 / 0\n",
        "except ZeroDivisionError:\n",
        "    print(\"You can't divide by zero!\")\n"
      ],
      "metadata": {
        "id": "ViLCGcxCX7Ad"
      },
      "execution_count": null,
      "outputs": []
    },
    {
      "cell_type": "markdown",
      "source": [
        "### Using else\n",
        "\n",
        "The else block runs if no exceptions were raised in the try block.**bold text**"
      ],
      "metadata": {
        "id": "z3ha6Qv7X6ZY"
      }
    },
    {
      "cell_type": "code",
      "source": [
        "try:\n",
        "    number = int(input(\"Enter a number: \"))\n",
        "except ValueError:\n",
        "    print(\"That's not a valid number!\")\n",
        "else:\n",
        "    print(f\"You entered: {number}\")\n"
      ],
      "metadata": {
        "colab": {
          "base_uri": "https://localhost:8080/"
        },
        "id": "9XjwiZpKX_iB",
        "outputId": "46aaac55-2ab7-43e1-dd18-78f5f4cb3c60"
      },
      "execution_count": 31,
      "outputs": [
        {
          "output_type": "stream",
          "name": "stdout",
          "text": [
            "Enter a number: 2\n",
            "You entered: 2\n"
          ]
        }
      ]
    },
    {
      "cell_type": "markdown",
      "source": [
        "### Using finally\n",
        "\n",
        "The finally block runs no matter what, whether an exception was raised or not."
      ],
      "metadata": {
        "id": "6CBcoS8sYDig"
      }
    },
    {
      "cell_type": "code",
      "source": [
        "try:\n",
        "    file = open('example.txt', 'r')\n",
        "    content = file.read()\n",
        "except FileNotFoundError:\n",
        "    print(\"File not found!\")\n",
        "finally:\n",
        "    file.close()  # Ensures the file is closed\n"
      ],
      "metadata": {
        "colab": {
          "base_uri": "https://localhost:8080/"
        },
        "id": "FTTPswAgYAn1",
        "outputId": "e6c2f243-c00b-4cc4-fe79-4e848a5aaa49"
      },
      "execution_count": 32,
      "outputs": [
        {
          "output_type": "stream",
          "name": "stdout",
          "text": [
            "File not found!\n"
          ]
        }
      ]
    },
    {
      "cell_type": "markdown",
      "source": [
        "## 5.3 Raising Exceptions with raise\n",
        "\n",
        "You can manually raise exceptions in your code using the raise keyword. This is useful for enforcing conditions or signaling errors."
      ],
      "metadata": {
        "id": "vtP8fS26YGRp"
      }
    },
    {
      "cell_type": "code",
      "source": [
        "def check_age(age):\n",
        "    if age < 0:\n",
        "        raise ValueError(\"Age cannot be negative!\")\n",
        "    return age\n",
        "\n",
        "try:\n",
        "    check_age(-5)\n",
        "except ValueError as e:\n",
        "    print(e)\n"
      ],
      "metadata": {
        "colab": {
          "base_uri": "https://localhost:8080/"
        },
        "id": "Pd1MunRQYFDa",
        "outputId": "845d3484-9c5b-460f-fa7b-a1b022d8d169"
      },
      "execution_count": 33,
      "outputs": [
        {
          "output_type": "stream",
          "name": "stdout",
          "text": [
            "Age cannot be negative!\n"
          ]
        }
      ]
    },
    {
      "cell_type": "markdown",
      "source": [
        "## 5.4 Custom Exception Classes\n",
        "\n",
        "You can define your own exception classes to create more specific error handling in your programs. Custom exceptions allow you to encapsulate error conditions and provide meaningful error messages."
      ],
      "metadata": {
        "id": "FDKJhvxbYJPn"
      }
    },
    {
      "cell_type": "code",
      "source": [
        "class NegativeAgeError(Exception):\n",
        "    \"\"\"Exception raised for errors in the input age.\"\"\"\n",
        "    def __init__(self, age):\n",
        "        self.age = age\n",
        "        self.message = f\"Age cannot be negative: {self.age}\"\n",
        "        super().__init__(self.message)\n",
        "\n",
        "def check_custom_age(age):\n",
        "    if age < 0:\n",
        "        raise NegativeAgeError(age)\n",
        "    return age\n",
        "\n",
        "try:\n",
        "    check_custom_age(-10)\n",
        "except NegativeAgeError as e:\n",
        "    print(e)\n"
      ],
      "metadata": {
        "colab": {
          "base_uri": "https://localhost:8080/"
        },
        "id": "RiGpTLPyYHu0",
        "outputId": "7e9dc3e7-3899-4577-917f-558c018e42ac"
      },
      "execution_count": 34,
      "outputs": [
        {
          "output_type": "stream",
          "name": "stdout",
          "text": [
            "Age cannot be negative: -10\n"
          ]
        }
      ]
    },
    {
      "cell_type": "markdown",
      "source": [
        "## Hands-on Practice\n",
        "Exercise 1: Write a program that takes user input and handles exceptions for invalid input types."
      ],
      "metadata": {
        "id": "tOvfrKSYYMgf"
      }
    },
    {
      "cell_type": "code",
      "source": [],
      "metadata": {
        "id": "YOwwxBCZYK45"
      },
      "execution_count": 40,
      "outputs": []
    },
    {
      "cell_type": "markdown",
      "source": [
        "Exercise 2: Create a function that raises a custom exception if the input is not within a specified range."
      ],
      "metadata": {
        "id": "zNRHfMT9YNHs"
      }
    },
    {
      "cell_type": "markdown",
      "source": [
        "Exercise 3: Implement a try-except-finally block that attempts to open a file and reads its contents, ensuring the file is closed afterward."
      ],
      "metadata": {
        "id": "TNjarJZlYOjE"
      }
    },
    {
      "cell_type": "markdown",
      "source": [
        "# Section 6: Introduction to Modules and Packages\n",
        "\n",
        "In this section, we will explore modules and packages in Python. Modules and packages are essential for organizing and structuring your code, allowing for code reusability and better maintainability.\n",
        "\n",
        "---\n",
        "\n",
        "## 6.1 Importing Modules\n",
        "\n",
        "In Python, a **module** is a file containing Python code that can define functions, classes, and variables. You can use modules to organize your code into separate files.\n",
        "\n",
        "### Importing Modules\n",
        "You can import modules using two main methods:\n",
        "\n",
        "1. **Using `import`**: This imports the entire module.\n",
        "2. **Using `from ... import`**: This imports specific attributes from the module.\n",
        "\n",
        "### Example: Importing a Module\n"
      ],
      "metadata": {
        "id": "w1Xkp2OYYT_W"
      }
    },
    {
      "cell_type": "code",
      "source": [
        "import math\n",
        "\n",
        "# Using a function from the math module\n",
        "result = math.sqrt(16)\n",
        "print(result)  # Output: 4.0"
      ],
      "metadata": {
        "colab": {
          "base_uri": "https://localhost:8080/"
        },
        "id": "kDEYPRY2YWBu",
        "outputId": "68ef3f40-c805-4444-b3af-461dbe76b158"
      },
      "execution_count": 36,
      "outputs": [
        {
          "output_type": "stream",
          "name": "stdout",
          "text": [
            "4.0\n"
          ]
        }
      ]
    },
    {
      "cell_type": "markdown",
      "source": [
        "## 6.2 Standard Library Modules\n",
        "\n",
        "Python comes with a rich set of standard library modules that provide useful functions and classes. Some commonly used standard modules include:\n",
        "\n",
        "* math: Provides mathematical functions.\n",
        "* os: Provides a way of using operating system-dependent functionality.\n",
        "* sys: Provides access to some variables used or maintained by the interpreter."
      ],
      "metadata": {
        "id": "SPXP-yVhYYkP"
      }
    },
    {
      "cell_type": "code",
      "source": [
        "import os\n",
        "\n",
        "# Get the current working directory\n",
        "current_dir = os.getcwd()\n",
        "print(current_dir)\n"
      ],
      "metadata": {
        "colab": {
          "base_uri": "https://localhost:8080/"
        },
        "id": "xxBAQdeBYWUD",
        "outputId": "e862fb07-2bea-4c6f-8c44-b3ddce05f18b"
      },
      "execution_count": 37,
      "outputs": [
        {
          "output_type": "stream",
          "name": "stdout",
          "text": [
            "/content\n"
          ]
        }
      ]
    },
    {
      "cell_type": "markdown",
      "source": [
        "## 6.3 Creating and Using Custom Modules\n",
        "\n",
        "You can create your own modules by simply saving your Python code in a .py file. To use your custom module, import it just like any standard module."
      ],
      "metadata": {
        "id": "FZX5xnzcYcMc"
      }
    },
    {
      "cell_type": "markdown",
      "source": [
        "### Example: Creating a Custom Module\n",
        "\n",
        "    Create a file named my_module.py:"
      ],
      "metadata": {
        "id": "4FPGbad_Yeie"
      }
    },
    {
      "cell_type": "code",
      "source": [
        "# my_module.py\n",
        "def greet(name):\n",
        "    return f\"Hello, {name}!\""
      ],
      "metadata": {
        "id": "7cK2fpG8Ybgy"
      },
      "execution_count": 38,
      "outputs": []
    },
    {
      "cell_type": "markdown",
      "source": [
        "### Use the custom module in another file:"
      ],
      "metadata": {
        "id": "IiXRbtT6Yh-j"
      }
    },
    {
      "cell_type": "code",
      "source": [
        "import my_module\n",
        "\n",
        "message = my_module.greet(\"Alice\")\n",
        "print(message)  # Output: Hello, Alice!\n"
      ],
      "metadata": {
        "colab": {
          "base_uri": "https://localhost:8080/",
          "height": 389
        },
        "id": "Rr5ezgNPYgGW",
        "outputId": "358a141f-f900-4cd1-a372-1e767a6f1f52"
      },
      "execution_count": 39,
      "outputs": [
        {
          "output_type": "error",
          "ename": "ModuleNotFoundError",
          "evalue": "No module named 'my_module'",
          "traceback": [
            "\u001b[0;31m---------------------------------------------------------------------------\u001b[0m",
            "\u001b[0;31mModuleNotFoundError\u001b[0m                       Traceback (most recent call last)",
            "\u001b[0;32m<ipython-input-39-7ca8840c61fe>\u001b[0m in \u001b[0;36m<cell line: 1>\u001b[0;34m()\u001b[0m\n\u001b[0;32m----> 1\u001b[0;31m \u001b[0;32mimport\u001b[0m \u001b[0mmy_module\u001b[0m\u001b[0;34m\u001b[0m\u001b[0;34m\u001b[0m\u001b[0m\n\u001b[0m\u001b[1;32m      2\u001b[0m \u001b[0;34m\u001b[0m\u001b[0m\n\u001b[1;32m      3\u001b[0m \u001b[0mmessage\u001b[0m \u001b[0;34m=\u001b[0m \u001b[0mmy_module\u001b[0m\u001b[0;34m.\u001b[0m\u001b[0mgreet\u001b[0m\u001b[0;34m(\u001b[0m\u001b[0;34m\"Alice\"\u001b[0m\u001b[0;34m)\u001b[0m\u001b[0;34m\u001b[0m\u001b[0;34m\u001b[0m\u001b[0m\n\u001b[1;32m      4\u001b[0m \u001b[0mprint\u001b[0m\u001b[0;34m(\u001b[0m\u001b[0mmessage\u001b[0m\u001b[0;34m)\u001b[0m  \u001b[0;31m# Output: Hello, Alice!\u001b[0m\u001b[0;34m\u001b[0m\u001b[0;34m\u001b[0m\u001b[0m\n",
            "\u001b[0;31mModuleNotFoundError\u001b[0m: No module named 'my_module'",
            "",
            "\u001b[0;31m---------------------------------------------------------------------------\u001b[0;32m\nNOTE: If your import is failing due to a missing package, you can\nmanually install dependencies using either !pip or !apt.\n\nTo view examples of installing some common dependencies, click the\n\"Open Examples\" button below.\n\u001b[0;31m---------------------------------------------------------------------------\u001b[0m\n"
          ],
          "errorDetails": {
            "actions": [
              {
                "action": "open_url",
                "actionText": "Open Examples",
                "url": "/notebooks/snippets/importing_libraries.ipynb"
              }
            ]
          }
        }
      ]
    },
    {
      "cell_type": "markdown",
      "source": [
        "## 6.4 Basics of Package Creation\n",
        "\n",
        "A package is a way of organizing related modules into a directory hierarchy. A package is simply a directory that contains a special __init__.py file (which can be empty) to indicate that the directory should be treated as a package."
      ],
      "metadata": {
        "id": "YHFYAPIpYmZf"
      }
    },
    {
      "cell_type": "markdown",
      "source": [
        "### Example: Creating a Package\n",
        "\n",
        "    Create a directory structure:\n",
        "\n",
        "markdown\n",
        "\n",
        "my_package/\n",
        "    __init__.py\n",
        "    module1.py\n",
        "    module2.py\n",
        "\n",
        "    Inside module1.py:\n",
        "\n",
        "``` python\n",
        "\n",
        "# module1.py\n",
        "def function_one():\n",
        "    return \"Function One\"\n",
        "\n",
        "```\n",
        "```python\n",
        "# module2.py\n",
        "def function_two():\n",
        "    return \"Function Two\"\n",
        "\n",
        "```"
      ],
      "metadata": {
        "id": "_Qaiw8XpYpA7"
      }
    },
    {
      "cell_type": "code",
      "source": [
        "from my_package.module1 import function_one\n",
        "from my_package.module2 import function_two\n",
        "\n",
        "print(function_one())  # Output: Function One\n",
        "print(function_two())  # Output: Function Two\n"
      ],
      "metadata": {
        "colab": {
          "base_uri": "https://localhost:8080/",
          "height": 406
        },
        "id": "csoBrOVFYjNd",
        "outputId": "2ed1a312-4c03-4d1e-8668-8eb4b081b81c"
      },
      "execution_count": 40,
      "outputs": [
        {
          "output_type": "error",
          "ename": "ModuleNotFoundError",
          "evalue": "No module named 'my_package'",
          "traceback": [
            "\u001b[0;31m---------------------------------------------------------------------------\u001b[0m",
            "\u001b[0;31mModuleNotFoundError\u001b[0m                       Traceback (most recent call last)",
            "\u001b[0;32m<ipython-input-40-113f14bcb7ea>\u001b[0m in \u001b[0;36m<cell line: 1>\u001b[0;34m()\u001b[0m\n\u001b[0;32m----> 1\u001b[0;31m \u001b[0;32mfrom\u001b[0m \u001b[0mmy_package\u001b[0m\u001b[0;34m.\u001b[0m\u001b[0mmodule1\u001b[0m \u001b[0;32mimport\u001b[0m \u001b[0mfunction_one\u001b[0m\u001b[0;34m\u001b[0m\u001b[0;34m\u001b[0m\u001b[0m\n\u001b[0m\u001b[1;32m      2\u001b[0m \u001b[0;32mfrom\u001b[0m \u001b[0mmy_package\u001b[0m\u001b[0;34m.\u001b[0m\u001b[0mmodule2\u001b[0m \u001b[0;32mimport\u001b[0m \u001b[0mfunction_two\u001b[0m\u001b[0;34m\u001b[0m\u001b[0;34m\u001b[0m\u001b[0m\n\u001b[1;32m      3\u001b[0m \u001b[0;34m\u001b[0m\u001b[0m\n\u001b[1;32m      4\u001b[0m \u001b[0mprint\u001b[0m\u001b[0;34m(\u001b[0m\u001b[0mfunction_one\u001b[0m\u001b[0;34m(\u001b[0m\u001b[0;34m)\u001b[0m\u001b[0;34m)\u001b[0m  \u001b[0;31m# Output: Function One\u001b[0m\u001b[0;34m\u001b[0m\u001b[0;34m\u001b[0m\u001b[0m\n\u001b[1;32m      5\u001b[0m \u001b[0mprint\u001b[0m\u001b[0;34m(\u001b[0m\u001b[0mfunction_two\u001b[0m\u001b[0;34m(\u001b[0m\u001b[0;34m)\u001b[0m\u001b[0;34m)\u001b[0m  \u001b[0;31m# Output: Function Two\u001b[0m\u001b[0;34m\u001b[0m\u001b[0;34m\u001b[0m\u001b[0m\n",
            "\u001b[0;31mModuleNotFoundError\u001b[0m: No module named 'my_package'",
            "",
            "\u001b[0;31m---------------------------------------------------------------------------\u001b[0;32m\nNOTE: If your import is failing due to a missing package, you can\nmanually install dependencies using either !pip or !apt.\n\nTo view examples of installing some common dependencies, click the\n\"Open Examples\" button below.\n\u001b[0;31m---------------------------------------------------------------------------\u001b[0m\n"
          ],
          "errorDetails": {
            "actions": [
              {
                "action": "open_url",
                "actionText": "Open Examples",
                "url": "/notebooks/snippets/importing_libraries.ipynb"
              }
            ]
          }
        }
      ]
    },
    {
      "cell_type": "markdown",
      "source": [
        "## Hands-on Practice\n",
        "Exercise 1: Create a custom module that includes functions for basic arithmetic operations (addition, subtraction, etc.)."
      ],
      "metadata": {
        "id": "0vJWNIjbY2hg"
      }
    },
    {
      "cell_type": "code",
      "source": [],
      "metadata": {
        "id": "9LfamJeEY2PF"
      },
      "execution_count": null,
      "outputs": []
    },
    {
      "cell_type": "markdown",
      "source": [
        "Exercise 2: Use the os module to list all files in the current directory."
      ],
      "metadata": {
        "id": "RCKYrEXDY343"
      }
    },
    {
      "cell_type": "code",
      "source": [],
      "metadata": {
        "id": "GpwSi1ZLY0rk"
      },
      "execution_count": null,
      "outputs": []
    },
    {
      "cell_type": "markdown",
      "source": [
        "Exercise 3: Create a package with two modules and demonstrate importing functions from both."
      ],
      "metadata": {
        "id": "2G1RDX3aY4ak"
      }
    },
    {
      "cell_type": "code",
      "source": [],
      "metadata": {
        "id": "iHyH2agTY59Y"
      },
      "execution_count": null,
      "outputs": []
    }
  ]
}